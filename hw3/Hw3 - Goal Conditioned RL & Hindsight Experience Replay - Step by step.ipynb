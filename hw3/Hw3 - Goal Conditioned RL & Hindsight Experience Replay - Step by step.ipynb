{
 "cells": [
  {
   "cell_type": "markdown",
   "metadata": {},
   "source": [
    "# CS 330 Autumn 2019/2020 Homework 3\n",
    "\n",
    "## Goal Conditioned Reinforcement Learning and Hindsight Experience Replay\n",
    "\n",
    "Due Wednesday November 6th, 11:59 PM PST\n",
    "\n",
    "SUNet ID:\n",
    "Name:\n",
    "Collaborators:\n",
    "\n",
    "By turning in this assignment, I agree by the Stanford honor code and declare that all of\n",
    "this is my own work.\n",
    "\n",
    "# Overview\n",
    "\n",
    "In this assignment we will be looking at goal-conditioned learning and hindsight experience\n",
    "replay (HER). In particular, you will:\n",
    "\n",
    "1. Adapt an existing model (a Deep Q-Network) to be goal-conditioned.\n",
    "2. Run goal-conditioned DQN on two environments\n",
    "3. Implement Hindsight Experience Replay (HER) [1,2] on top of a goal-conditioned DQN\n",
    "for each environment\n",
    "4. Compare the performance with and without HER\n",
    "\n",
    "**Submission**: To submit your homework, submit one pdf report and one zip file to Gradescope, where the report will contain answers to the deliverables listed below and the zip file contains your code bits_main.py and sawyer_main.py with the filled in solutions.\n",
    "\n",
    "## Code Overview:\n",
    "\n",
    "The code consists of four files. You should only make modifications to\n",
    "two of them.\n",
    "\n",
    "* `BitFlip.py`: Bit flipping environment for problems 1-3. You should not modify this\n",
    "file, though it may be helpful to look at it and understand the environment.\n",
    "\n",
    "\n",
    "* `buffers.py`: Buffers for storing experiences. You should not modify this file, though\n",
    "it may be useful to look it.\n",
    "\n",
    "\n",
    "* `bits_main.py`: Main loop and helper functions for solving the bit flipping environment.\n",
    "You will add your solutions to problems 1 and 2 to this file and run it for problem 3.\n",
    "\n",
    "* `sawyer_main.py`: Main loop and helper functions for solving the Sawyer arm environment. You will add your solutions to problem 4 to this file and run it for problem 5.\n",
    "\n",
    "\n",
    "## Dependencies:\n",
    "\n",
    "We expect code in Python 3.5+ with Pillow, scipy, numpy, tensorflow,\n",
    "gym, mujoco, multiworld installed.\n",
    "\n",
    "> `pip install pillow, scipy, numpy, gym, mujoco, multiworld, tensorflow`\n"
   ]
  },
  {
   "cell_type": "code",
   "execution_count": 9,
   "metadata": {
    "ExecuteTime": {
     "end_time": "2020-09-06T05:06:49.451626Z",
     "start_time": "2020-09-06T05:06:49.448278Z"
    }
   },
   "outputs": [],
   "source": [
    "#!pip install pillow, scipy, numpy, gym, mujoco, multiworld, tensorflow"
   ]
  },
  {
   "cell_type": "code",
   "execution_count": 10,
   "metadata": {
    "ExecuteTime": {
     "end_time": "2020-09-06T05:06:49.766828Z",
     "start_time": "2020-09-06T05:06:49.762617Z"
    }
   },
   "outputs": [
    {
     "data": {
      "text/html": [
       "\n",
       "<style>\n",
       "    div#notebook-container    { width: 95%; }\n",
       "    div#menubar-container     { width: 65%; }\n",
       "    div#maintoolbar-container { width: 99%; }\n",
       "</style>\n"
      ],
      "text/plain": [
       "<IPython.core.display.HTML object>"
      ]
     },
     "metadata": {},
     "output_type": "display_data"
    }
   ],
   "source": [
    "# Widescreen notebook\n",
    "from IPython.display import display, HTML\n",
    "\n",
    "display(HTML(data=\"\"\"\n",
    "<style>\n",
    "    div#notebook-container    { width: 95%; }\n",
    "    div#menubar-container     { width: 65%; }\n",
    "    div#maintoolbar-container { width: 99%; }\n",
    "</style>\n",
    "\"\"\"))"
   ]
  },
  {
   "cell_type": "markdown",
   "metadata": {},
   "source": [
    "## Environments\n",
    "\n",
    "You will be running on two environments:"
   ]
  },
  {
   "cell_type": "markdown",
   "metadata": {},
   "source": [
    "## Environment 1: Bit Flipping Environment\n",
    "\n",
    "In the bit-flipping environment, **the state is a binary vector with length n**.\n",
    "\n",
    "The **goal** is **to reach a known goal vector**, which is also a binary vector with length n.\n",
    "\n",
    "At each step, **we can flip a single value** in the vector (changing a 0 to 1 or a 1 to 0).\n",
    "\n",
    "This environment can very easily be solved without reinforcement learning, but we will use a DQN to demonstrate how adding HER can improve performance.\n",
    "\n",
    "![asd](../img/hw3-flip-env.png)\n",
    "\\* Diagram: 4 bit environment\n",
    "\n",
    "The bit flipping environment is an example of an environment with **sparse rewards**.\n",
    "\n",
    "At each step, **we receive a reward of -1 when the goal and state vector do not match and a reward\n",
    "of 0 when they do**.\n",
    "\n",
    "As the **size of the vector grows**, we receive **fewer and fewer non-negative rewards**.\n",
    "\n",
    "**Adding HER helps us train in an environment with sparse rewards** (more details later).\n",
    "\n",
    "The bit flipping environment is included in the homework zip file as `BitFlip.py` and does\n",
    "not require additional installation."
   ]
  },
  {
   "cell_type": "markdown",
   "metadata": {},
   "source": [
    "## Environment 2: 2D Sawyer Arm\n",
    "\n",
    "The Sawyer Arm is a multi-jointed robotic arm for grasping and reaching (https://robots.ieee.org/robots/sawyer/).\n",
    "\n",
    "The arm operates in a 2D space, and the **goal is to move the robot to a set of coordinates (x, y)**.\n",
    "\n",
    "To run the Sawyer Arm environment, you will have to install several packages.\n",
    "\n",
    "If you have any trouble with installation, please post on Piazza; it’s likely that other students have\n",
    "run into the same problem.\n",
    "\n",
    "### Installing gym\n",
    "\n",
    "Gym is a package for comparing reinforcement learning algorithms.\n",
    "\n",
    "It is a widely used library, and contains several simulated tasks for testing algorithms such as teaching robots to walk and balancing a pole on a cart. Instructions for installing gym are here http://gym.openai.com/docs/.\n",
    "\n",
    "Run:\n",
    "\n",
    "    pip install gym\n",
    "\n",
    "### Installing Mujoco\n",
    "\n",
    "Mujoco is a physics simulation engine that runs with gym. You will be emailed a class license for Mujoco.\n",
    "\n",
    "DO NOT REDISTRIBUTE THE LICENSE KEY.\n",
    "\n",
    "#### Instructions\n",
    "\n",
    "for installing Mujoco can be found here: https://github.com/openai/mujoco-py.\n",
    "\n",
    "Run:\n",
    "\n",
    "    pip install mujoco-py\n",
    "\n",
    "### Installing multiworld\n",
    "    \n",
    "To install multiworld, run\n",
    "\n",
    "    git clone https://github.com/vitchyr/multiworld\n",
    "    \n",
    "navigate to the setup.py and run\n",
    "    \n",
    "    python setup.py install"
   ]
  },
  {
   "cell_type": "markdown",
   "metadata": {},
   "source": [
    "# Problem 1: Implementing Goal-Conditioned RL on Bit Flipping\n",
    "\n",
    "The file `bits_main.py` contains a DQN that runs in a bit-flipping environment.\n",
    "\n",
    "Currently the DQN is **not goal-conditioned** and does **not have HER implemented**.\n",
    "\n",
    "The Q-function takes in **only the state as the input**, and does not consider the goal.\n",
    "\n",
    "To modify the Q-function to be goal-conditioned, **concatenate the observation vector with the goal vector and pass the combined vector to the Q-function**.\n",
    "\n",
    "You can think of the goal-conditioned implementation as an **extended Markov decision process (MDP)**, where your **state space contains both the original state and the goal**.\n",
    "\n",
    "a) Run `bits_main.py` with the following arguments:\n",
    "\n",
    "    python bits_main.py --num_bits=7 --num_epochs=150\n",
    "    \n",
    "**Save the generated plot** and include it in your homework.\n",
    "\n",
    "This plot illustrates the performance without goal conditioning.\n",
    "\n",
    "b) **Modify the DQN** so that it is **goal-conditioned**.\n",
    "\n",
    "The places where you will need to make modifications are marked in `bits_main.py`.\n",
    "\n",
    "You should **not** make modifications to `buffers.py` or `BitFlip.py`.\n",
    "\n",
    "*Hint:* the bit flipping environment returns the state and goal vector when reset() is called.\n",
    "\n",
    "---"
   ]
  },
  {
   "cell_type": "markdown",
   "metadata": {
    "ExecuteTime": {
     "end_time": "2020-08-28T22:35:23.144361Z",
     "start_time": "2020-08-28T22:34:50.444381Z"
    }
   },
   "source": [
    "a) *Dont forget to run a) and save the plot, you'll modify that code in a bit*\n",
    "\n",
    "    python bits_main.py --num_bits=7 --num_epochs=150\n",
    "    "
   ]
  },
  {
   "cell_type": "markdown",
   "metadata": {},
   "source": [
    "b) Particularly, we need to modify TWO sections of the code:\n",
    "\n",
    "1. Input to the NN model\n",
    "2. Solve environment loop\n",
    "\n",
    "> Why do you think we need to modify the input to the neural network model as we modify DQN to be **goal-conditioned**?\n",
    ">\n",
    "> > ```python\n",
    "> > # ======================== TODO modify code ========================\n",
    "> > \n",
    "> > self.inp = tf.placeholder(shape = [None, num_bits],dtype = tf.float32)\n",
    "> > \n",
    "> > # ========================      END TODO       ========================\n",
    "> > net = self.inp\n",
    "> > net = slim.fully_connected(net,hidden_dim,activation_fn = tf.nn.relu)\n",
    "> > ...\n",
    "> > ```\n",
    ">\n",
    "> What about the loop over each episode? what do we need to change there?\n",
    ">\n",
    "> > ```python\n",
    "> > for t in range(num_bits):\n",
    "> >     # attempt to solve the state - number of steps given to solve the\n",
    "> >     # state is equal to the size of the vector\n",
    "> >     \n",
    "> >     # ======================== TODO modify code ========================\n",
    "> > \n",
    "> >     inp_state = state\n",
    "> >     # forward pass to find action\n",
    "> >     action = sess.run(model.predict,feed_dict = {model.inp : [inp_state]})[0]\n",
    "> >     # take the action\n",
    "> >     next_state,reward,done, _ = bit_env.step(action)\n",
    "> >     # add to the episode experience (what happened)\n",
    "> >      episode_experience.append((state, action, reward, next_state, goal_state))\n",
    "> >     # calculate total reward\n",
    "> >     total_reward+=reward\n",
    "> >     # update state\n",
    "> >     state = next_state\n",
    "> >     # mark that we've finished the episode and succeeded with training\n",
    "> >     if done:\n",
    "> >         if succeeded:\n",
    "> >             continue\n",
    "> >         else:\n",
    "> >             succeeded = True\n",
    "> >     \n",
    "> >     # ========================      END TODO       ========================\n",
    "> > ```"
   ]
  },
  {
   "cell_type": "markdown",
   "metadata": {},
   "source": [
    "### Recall:\n",
    "\n",
    "Adding a goal to our framework changes two things:\n",
    "\n",
    "1. **States now also include the goal state** :\n",
    "\n",
    "  ```python\n",
    "   state = [observation, goal_state]\n",
    "   ```\n",
    "    \n",
    "   which in our case those are vectors of n bits/digits\n",
    "   \n",
    "   ```python\n",
    "   observation = [0 0 0 1]\n",
    "   goal_state  = [0 1 0 1]\n",
    "\n",
    "   state = [0 0 0 1 0 1 0 1]\n",
    "   ```\n",
    "\n",
    "2. **Rewards are replaced by a distance metric between observation and goal state**\n",
    "   \n",
    "   Before we had:\n",
    "   \n",
    "   ```python\n",
    "   next_state, reward, done, _ = bit_env.step(action)\n",
    "   ```\n",
    "    \n",
    "   and we want to replace that reward for a distance to a given goal:\n",
    "   \n",
    "   ```python\n",
    "   # Sparse\n",
    "   # -1 if not equal; 0 if equal\n",
    "   # -dirac{ state != goal_state }\n",
    "   reward = -1 if (next_state != goal_state)\n",
    "\n",
    "   # L2 norm (squared): ||different bits||^2\n",
    "   reward = -1 * np.sum(np.power( (next_state - goal_state), 2) )\n",
    "    ```\n",
    "   "
   ]
  },
  {
   "cell_type": "markdown",
   "metadata": {},
   "source": [
    "We want to add goal conditioning to our DQN, but without changing the environment, so we need to modify **EACH** state as is observed to include, also, the goal state:\n",
    "\n",
    "> ```python\n",
    "> inp_state = np.concatenate(state, goal_state)\n",
    "> ```\n",
    "\n",
    "Each `state` now (and also `next state`s) will need to have the observed state as a vector concatenated with the goal state vector.\n",
    "\n"
   ]
  },
  {
   "cell_type": "code",
   "execution_count": null,
   "metadata": {},
   "outputs": [],
   "source": []
  },
  {
   "cell_type": "code",
   "execution_count": 13,
   "metadata": {
    "ExecuteTime": {
     "end_time": "2020-09-06T05:09:46.079059Z",
     "start_time": "2020-09-06T05:09:46.069896Z"
    }
   },
   "outputs": [],
   "source": [
    "from tqdm import tqdm\n"
   ]
  },
  {
   "cell_type": "markdown",
   "metadata": {},
   "source": [
    "# Code and Experiments"
   ]
  },
  {
   "cell_type": "code",
   "execution_count": 1,
   "metadata": {
    "ExecuteTime": {
     "end_time": "2020-09-06T05:07:04.260380Z",
     "start_time": "2020-09-06T05:07:02.566978Z"
    }
   },
   "outputs": [],
   "source": [
    "import numpy as np\n",
    "import tensorflow as tf\n",
    "# import tensorflow.contrib.slim as slim\n",
    "import tf_slim as slim\n",
    "from BitFlip import BitFlipEnv\n",
    "from buffers import Buffer\n",
    "from matplotlib import pyplot as plt\n",
    "from tqdm import tqdm\n",
    "\n",
    "\n",
    "tf.reset_default_graph()\n",
    "\n",
    "flags = tf.app.flags\n",
    "\n",
    "flags.DEFINE_string(\"HER\", \"None\",\n",
    "                    \"different strategies of choosing goal. Possible values are :- future, final, episode or None. If None HER is not used\")\n",
    "flags.DEFINE_integer(\"num_bits\", 15, \"number of bits in the bit-flipping environment\")\n",
    "flags.DEFINE_integer(\"num_epochs\", 250, \"Number of epochs to run training for\")\n",
    "flags.DEFINE_integer(\"log_interval\", 5, \"Epochs between printing log info\")\n",
    "flags.DEFINE_integer(\"opt_steps\", 40, \"Optimization steps in each epoch\")\n",
    "\n",
    "FLAGS = flags.FLAGS"
   ]
  },
  {
   "cell_type": "code",
   "execution_count": 2,
   "metadata": {
    "ExecuteTime": {
     "end_time": "2020-09-06T05:07:06.284844Z",
     "start_time": "2020-09-06T05:07:06.274336Z"
    }
   },
   "outputs": [],
   "source": [
    "class Model:\n",
    "    '''Define Q-model'''\n",
    "\n",
    "    def __init__(self, num_bits, scope, reuse):\n",
    "        # initialize model\n",
    "        hidden_dim = 256\n",
    "        with tf.variable_scope(scope, reuse=reuse):\n",
    "            # ======================== TODO modify code ========================\n",
    "            # J: Goal conditioning brings two distinctions:\n",
    "            #    1. state has attached goal_state\n",
    "            #    2. reward is some distance to goal_state from current state\n",
    "            # Before goal conditioning:\n",
    "            #self.inp = tf.placeholder(shape=[None, num_bits], dtype=tf.float32)\n",
    "            self.inp = tf.placeholder(shape=[None, 2 * num_bits], dtype=tf.float32)\n",
    "\n",
    "            # ========================      END TODO       ========================\n",
    "            net = self.inp\n",
    "            net = slim.fully_connected(net, hidden_dim, activation_fn=tf.nn.relu)\n",
    "            self.out = slim.fully_connected(net, num_bits, activation_fn=None)\n",
    "            self.predict = tf.argmax(self.out, axis=1)\n",
    "            self.action_taken = tf.placeholder(shape=[None], dtype=tf.int32)\n",
    "            action_one_hot = tf.one_hot(self.action_taken, num_bits)\n",
    "            Q_val = tf.reduce_sum(self.out * action_one_hot, axis=1)\n",
    "            self.Q_target = tf.placeholder(shape=[None], dtype=tf.float32)\n",
    "            self.loss = tf.reduce_mean(tf.square(Q_val - self.Q_target))\n",
    "            self.train_step = tf.train.AdamOptimizer(learning_rate=1e-3).minimize(self.loss)\n",
    "\n",
    "\n",
    "def update_target_graph(from_scope, to_scope, tau):\n",
    "    '''update the target network by copying over the weights from the policy\n",
    "    network to the target network'''\n",
    "    from_vars = tf.get_collection(tf.GraphKeys.TRAINABLE_VARIABLES, from_scope)\n",
    "    to_vars = tf.get_collection(tf.GraphKeys.TRAINABLE_VARIABLES, to_scope)\n",
    "    ops = []\n",
    "    for (var1, var2) in zip(from_vars, to_vars):\n",
    "        ops.append(var2.assign(var2 * tau + (1 - tau) * var1))\n",
    "\n",
    "    return ops\n",
    "\n",
    "\n",
    "def updateTarget(ops, sess):\n",
    "    for op in ops:\n",
    "        sess.run(op)"
   ]
  },
  {
   "cell_type": "code",
   "execution_count": 3,
   "metadata": {
    "ExecuteTime": {
     "end_time": "2020-09-06T05:07:06.978914Z",
     "start_time": "2020-09-06T05:07:06.975418Z"
    }
   },
   "outputs": [],
   "source": [
    "# ************   Define global variables and initialize    ************ #\n",
    "\n",
    "num_bits = 7  # number of bits in the bit_flipping environment\n",
    "# \n",
    "tau = 0.95  # Polyak averaging parameter\n",
    "buffer_size = 1e6  # maximum number of elements in the replay buffer\n",
    "batch_size = 128  # number of samples to draw from the replay_buffer\n",
    "\n",
    "num_epochs = 150#FLAGS.num_epochs  # epochs to run training for\n",
    "num_episodes = 16  # episodes to run in the environment per epoch\n",
    "num_relabeled = 4  # relabeled experiences to add to replay_buffer each pass\n",
    "gamma = 0.98  # weighting past and future rewards\n",
    "\n",
    "\n"
   ]
  },
  {
   "cell_type": "code",
   "execution_count": 4,
   "metadata": {
    "ExecuteTime": {
     "end_time": "2020-09-06T05:07:07.551381Z",
     "start_time": "2020-09-06T05:07:07.537256Z"
    }
   },
   "outputs": [],
   "source": [
    "def solve_environment(state, goal_state, total_reward, sess, model, bit_env, num_bits):\n",
    "    '''attempt to solve the bit flipping environment using the current policy'''\n",
    "\n",
    "    # list for recording what happened in the episode\n",
    "    episode_experience = []\n",
    "    succeeded = False\n",
    "\n",
    "    for t in range(num_bits):\n",
    "        # attempt to solve the state - number of steps given to solve the\n",
    "        # state is equal to the size of the vector\n",
    "        # ======================== TODO modify code ========================\n",
    "        #print(t, state, goal_state)\n",
    "        inp_state = state\n",
    "        # J: Concat goal_state to each state observation\n",
    "        inp_state = np.concatenate([state, goal_state])\n",
    "        \n",
    "        #print(t, inp_state, num_bits)\n",
    "        # forward pass to find action\n",
    "        \n",
    "        action = sess.run(model.predict, feed_dict={model.inp: [inp_state]})[0]\n",
    "        # take the action\n",
    "        next_state, reward, done, _ = bit_env.step(action)\n",
    "        # J: In Goal cond. RL, reward=-distance(state, goal)\n",
    "        r_func = 'l2'\n",
    "        if r_func == 'sparse':\n",
    "            # -1 if not equal; 0 if equal\n",
    "            # -dirac{ state != goal_state }\n",
    "            reward = -1 * np.any(next_state != goal_state)\n",
    "        elif r_func == 'l2':\n",
    "            # L2 norm (squared): ||different bits||^2\n",
    "            reward = -1 * np.sum(np.power( (next_state - goal_state), 2) )\n",
    "\n",
    "        # J: Update state and next_state with goal_state (to sample from batch of experience later)\n",
    "        state_g = np.asarray([state, goal_state]).flatten()\n",
    "        next_state_g = np.asarray([next_state, goal_state]).flatten()\n",
    "        # add to the episode experience (what happened)\n",
    "        episode_experience.append((state_g, action, reward, next_state_g, goal_state))\n",
    "        # calculate total reward\n",
    "        total_reward += reward\n",
    "        # update state\n",
    "        state = next_state\n",
    "        # mark that we've finished the episode and succeeded with training\n",
    "        if done:\n",
    "            if succeeded:\n",
    "                continue\n",
    "            else:\n",
    "                succeeded = True\n",
    "\n",
    "        # ========================      END TODO       ========================\n",
    "\n",
    "    return succeeded, episode_experience, total_reward / 5\n",
    "\n",
    "\n",
    "def update_replay_buffer(self, episode_experience, HER):\n",
    "    '''adds past experience to the replay buffer. Training is done with episodes from the replay\n",
    "    buffer. When HER is used, relabeled experiences are also added to the replay buffer\n",
    "\n",
    "    inputs: epsidode_experience - list of transitions from the last episode\n",
    "    modifies: replay_buffer\n",
    "    outputs: None'''\n",
    "\n",
    "    for t in range(num_bits):\n",
    "        # copy actual experience from episode_experience to replay_buffer\n",
    "\n",
    "        # ======================== TODO modify code ========================\n",
    "        s, a, r, s_, g = episode_experience[t]\n",
    "        m = len(s) // 2\n",
    "        # state\n",
    "        inputs = s\n",
    "        # next state\n",
    "        inputs_ = s_\n",
    "        # add to the replay buffer\n",
    "        self.replay_buffer.add(inputs, a, r, inputs_)\n",
    "\n",
    "        # when HER is used, each call to update_replay_buffer should add num_relabeled\n",
    "        # relabeled points to the replay buffer\n",
    "\n",
    "        if HER == 'None':\n",
    "            # HER not being used, so do nothing\n",
    "            pass\n",
    "\n",
    "        elif HER == 'final':\n",
    "            # final - relabel based on final state in episode\n",
    "            # pass\n",
    "            _, _, _, final_state, g_ = episode_experience[-1]\n",
    "            new_goal = final_state[:m]\n",
    "            # Update next_state as [next_state, new_goal_state]\n",
    "            relabel_state = np.asarray([s_[:m], new_goal]).flatten()\n",
    "            # Update reward (distance)\n",
    "            r_new = -1 * np.sum(np.power((s_[:m] - new_goal), 2))\n",
    "            self.replay_buffer.add(inputs, a, r_new, relabel_state)\n",
    "\n",
    "        elif HER == 'future':\n",
    "            # future - relabel based on future state. At each timestep t, relabel the\n",
    "            # goal with a randomly select timestep between t and the end of the\n",
    "            # episode\n",
    "            # pass\n",
    "            t_future = np.random.randint(t, m)\n",
    "            _, _, _, relabel_goal, _ = episode_experience[t_future]\n",
    "            self.replay_buffer.add(inputs, a, r, relabel_goal)\n",
    "\n",
    "\n",
    "        elif HER == 'random':\n",
    "            # random - relabel based on a random state in the episode\n",
    "            #pass\n",
    "            m = len(episode_experience)\n",
    "            t_random = np.random.randint(0, m)\n",
    "            _, _, _, relabel_goal, _ = episode_experience[t_random]\n",
    "            self.replay_buffer.add(inputs, a, r, relabel_goal)\n",
    "\n",
    "        # ========================      END TODO       ========================\n",
    "\n",
    "        else:\n",
    "            print(\"Invalid value for Her flag - HER not used\")\n",
    "    return"
   ]
  },
  {
   "cell_type": "code",
   "execution_count": 5,
   "metadata": {
    "ExecuteTime": {
     "end_time": "2020-09-06T05:07:08.100599Z",
     "start_time": "2020-09-06T05:07:08.094887Z"
    }
   },
   "outputs": [],
   "source": [
    "def plot_success_rate(success_rates, labels):\n",
    "    '''This function plots the success rate as a function of the number of cycles.\n",
    "    The results are averaged over num_epochs epochs.\n",
    "\n",
    "    inputs: success_rates - list with each element a list of success rates for\n",
    "                            a epochs of running flip_bits\n",
    "            labels - list of labels for each success_rate line'''\n",
    "\n",
    "    for i in range(len(success_rates)):\n",
    "        plt.plot(success_rates[i], label=labels[i])\n",
    "\n",
    "    plt.xlabel('Epochs')\n",
    "    plt.ylabel('Success rate')\n",
    "    plt.title('Success rate with %d bits' % num_bits)\n",
    "    plt.ylim(0, 1)\n",
    "    plt.legend()\n",
    "    plt.show()\n",
    "\n",
    "    return"
   ]
  },
  {
   "cell_type": "code",
   "execution_count": 23,
   "metadata": {
    "ExecuteTime": {
     "end_time": "2020-09-06T05:12:38.624599Z",
     "start_time": "2020-09-06T05:12:38.616094Z"
    }
   },
   "outputs": [],
   "source": [
    "# ************   Main training loop    ************ #\n",
    "\n",
    "def flip_bits(self,\n",
    "              HER=\"final\", \n",
    "              num_bits=7, \n",
    "              num_epochs=150,\n",
    "              log_interval=5,\n",
    "              opt_steps=40,\n",
    "              num_episodes=16):\n",
    "    '''Main loop for running in the bit flipping environment. The DQN is\n",
    "    trained over num_epochs. In each epoch, the agent runs in the environment\n",
    "    num_episodes number of times. The Q-target and Q-policy networks are\n",
    "    updated at the end of each epoch. Within one episode, Q-policy attempts\n",
    "    to solve the environment and is limited to the same number as steps as the\n",
    "    size of the environment\n",
    "\n",
    "    inputs: HER - string specifying whether to use HER'''\n",
    "\n",
    "    print(\"Running bit flip environment with %d bits and HER policy: %s\" % (num_bits, HER))\n",
    "    \n",
    "    \n",
    "    # create bit flipping environment and replay buffer\n",
    "#     bit_env = BitFlipEnv(num_bits)\n",
    "#     replay_buffer = Buffer(buffer_size, batch_size)\n",
    "\n",
    "#     # set up Q-policy (model) and Q-target (target_model)\n",
    "#     model = Model(num_bits, scope='model', reuse=True)\n",
    "#     target_model = Model(num_bits, scope='target_model', reuse=True)\n",
    "\n",
    "#     update_ops_initial = update_target_graph('model', 'target_model', tau=0.0)\n",
    "#     update_ops = update_target_graph('model', 'target_model', tau=tau)\n",
    "\n",
    "#     sess = tf.InteractiveSession()\n",
    "#     sess.run(tf.global_variables_initializer())\n",
    "\n",
    "#     # start by making Q-target and Q-policy the same\n",
    "#     updateTarget(update_ops_initial, sess)\n",
    "    \n",
    "\n",
    "#     total_loss = []  # training loss for each epoch\n",
    "#     success_rate = []  # success rate for each epoch\n",
    "    # Shorter names for clarity later on\n",
    "    model = self.model\n",
    "    target_model = self.target_model \n",
    "    \n",
    "    bit_env = self.bit_env\n",
    "    sess = self.sess\n",
    "    \n",
    "    replay_buffer = self.replay_buffer\n",
    "    update_replay_buffer = self.update_replay_buffer\n",
    "    \n",
    "    update_ops = self.update_ops \n",
    "    update_ops_initial = self.update_ops_initial \n",
    "    \n",
    "    success_rate = []\n",
    "    total_loss = []\n",
    "    \n",
    "\n",
    "    for i in trange(num_epochs):\n",
    "        # Run for a fixed number of epochs\n",
    "\n",
    "        total_reward = 0.0  # total reward for the epoch\n",
    "        successes = []  # record success rate for each episode of the epoch\n",
    "        losses = []  # loss at the end of each epoch\n",
    "\n",
    "        for k in range(num_episodes):\n",
    "            # Run in the environment for num_episodes  \n",
    "\n",
    "            state, goal_state = bit_env.reset()  # reset the environment\n",
    "            # attempt to solve the environment\n",
    "            succeeded, episode_experience, total_reward = solve_environment(state, goal_state, total_reward,\n",
    "                                                                            sess, model, bit_env, num_bits)\n",
    "            successes.append(succeeded)  # track whether we succeeded in environment\n",
    "            update_replay_buffer(episode_experience, HER)  # add to the replay buffer; use specified  HER policy\n",
    "\n",
    "        for k in range(opt_steps):\n",
    "            # optimize the Q-policy network\n",
    "\n",
    "            # sample from the replay buffer\n",
    "            state, action, reward, next_state = replay_buffer.sample()\n",
    "            # forward pass through target network\n",
    "            target_net_Q = sess.run(target_model.out, feed_dict={target_model.inp: next_state})\n",
    "            # calculate target reward\n",
    "            target_reward = np.clip(np.reshape(reward, [-1]) + gamma * np.reshape(np.max(target_net_Q, axis=-1), [-1]),\n",
    "                                    -1. / (1 - gamma), 0)\n",
    "            # calculate loss\n",
    "            _, loss = sess.run([model.train_step, model.loss],\n",
    "                               feed_dict={model.inp: state, model.action_taken: np.reshape(action, [-1]),\n",
    "                                          model.Q_target: target_reward})\n",
    "            # append loss from this optimization step to the list of losses\n",
    "            losses.append(loss)\n",
    "\n",
    "        updateTarget(update_ops, sess)  # update target model by copying Q-policy to Q-target\n",
    "        success_rate.append(np.mean(successes))  # append mean success rate for this epoch\n",
    "        total_loss.append(np.mean(losses)) # J: Added; mean training loss for each epoch\n",
    "        \n",
    "        if i % log_interval == 0:\n",
    "            print('Epoch: %d  Mean reward: %f  Success rate: %.4f Mean loss: %.4f' % (\n",
    "                i, total_reward, np.mean(successes), np.mean(losses)))\n",
    "\n",
    "    return success_rate"
   ]
  },
  {
   "cell_type": "code",
   "execution_count": 24,
   "metadata": {
    "ExecuteTime": {
     "end_time": "2020-09-06T05:12:39.895433Z",
     "start_time": "2020-09-06T05:12:39.892927Z"
    }
   },
   "outputs": [],
   "source": [
    "import tensorflow.keras as keras"
   ]
  },
  {
   "cell_type": "code",
   "execution_count": 25,
   "metadata": {
    "ExecuteTime": {
     "end_time": "2020-09-06T05:12:41.774104Z",
     "start_time": "2020-09-06T05:12:41.770615Z"
    }
   },
   "outputs": [],
   "source": [
    "tf.reset_default_graph()"
   ]
  },
  {
   "cell_type": "code",
   "execution_count": 29,
   "metadata": {
    "ExecuteTime": {
     "end_time": "2020-09-06T05:13:40.050021Z",
     "start_time": "2020-09-06T05:13:40.047615Z"
    }
   },
   "outputs": [],
   "source": [
    "from tqdm import trange"
   ]
  },
  {
   "cell_type": "code",
   "execution_count": 30,
   "metadata": {
    "ExecuteTime": {
     "end_time": "2020-09-06T05:13:42.769598Z",
     "start_time": "2020-09-06T05:13:42.762597Z"
    }
   },
   "outputs": [],
   "source": [
    "class experiment:\n",
    "    def __init__(self,HER=\"final\", \n",
    "                      num_bits=7, \n",
    "                      num_epochs=250,\n",
    "                      log_interval=25,\n",
    "                      opt_steps=40,\n",
    "                      num_episodes=64):\n",
    "        \n",
    "        self.HER=HER\n",
    "        self.num_bits=num_bits\n",
    "        self.num_epochs=num_epochs\n",
    "        self.log_interval=log_interval\n",
    "        self.opt_steps=opt_steps\n",
    "        self.num_episodes=num_episodes\n",
    "        \n",
    "        # set up Q-policy (model) and Q-target (target_model)\n",
    "        self.set_up_networks()\n",
    "\n",
    "        self.total_loss = []  # training loss for each epoch\n",
    "        self.success_rate = []  # success rate for each epoch\n",
    "    \n",
    "    def set_up_networks(self):\n",
    "        # set up Q-policy (model) and Q-target (target_model)\n",
    "        tf.reset_default_graph()\n",
    "        tf.keras.backend.clear_session()\n",
    "        # create bit flipping environment and replay buffer\n",
    "        self.bit_env = BitFlipEnv(self.num_bits)\n",
    "        self.replay_buffer = Buffer(buffer_size, batch_size)\n",
    "        \n",
    "        # set up Q-policy (model) and Q-target (target_model)\n",
    "        #self.set_up_networks()\n",
    "        self.model = Model(self.num_bits, scope='model', reuse=False)\n",
    "        self.target_model = Model(self.num_bits, scope='target_model', reuse=False)\n",
    "\n",
    "        self.update_ops_initial = update_target_graph('model', 'target_model', tau=0.0)\n",
    "        self.update_ops = update_target_graph('model', 'target_model', tau=tau)\n",
    "\n",
    "        self.sess = tf.InteractiveSession()\n",
    "        self.sess.run(tf.global_variables_initializer())\n",
    "\n",
    "        # start by making Q-target and Q-policy the same\n",
    "        updateTarget(self.update_ops_initial, self.sess)\n",
    "    \n",
    "    def run_games(self, n=1):\n",
    "        successes = []\n",
    "        for i in range(n):#tqdm(range(n)):\n",
    "            #self.set_up_networks()\n",
    "\n",
    "            successes.append(flip_bits(self,\n",
    "                                      HER=self.HER, \n",
    "                                      num_bits=self.num_bits, \n",
    "                                      num_epochs=self.num_epochs,\n",
    "                                      log_interval=self.log_interval,\n",
    "                                      opt_steps=self.opt_steps,\n",
    "                                      num_episodes=self.num_episodes))\n",
    "            #self.sess.close()\n",
    "            #tf.reset_default_graph()\n",
    "            self.set_up_networks()\n",
    "            \n",
    "        return (successes)\n",
    "        \n",
    "    def update_replay_buffer(self, episode_experience, HER):\n",
    "        update_replay_buffer(self, episode_experience, HER)\n",
    "        "
   ]
  },
  {
   "cell_type": "code",
   "execution_count": 31,
   "metadata": {
    "ExecuteTime": {
     "end_time": "2020-09-06T05:13:43.447555Z",
     "start_time": "2020-09-06T05:13:43.149869Z"
    }
   },
   "outputs": [],
   "source": [
    "x = experiment()"
   ]
  },
  {
   "cell_type": "code",
   "execution_count": 35,
   "metadata": {
    "ExecuteTime": {
     "end_time": "2020-09-06T05:16:43.690504Z",
     "start_time": "2020-09-06T05:16:43.687519Z"
    }
   },
   "outputs": [],
   "source": [
    "x.log_interval = 10"
   ]
  },
  {
   "cell_type": "code",
   "execution_count": 36,
   "metadata": {
    "ExecuteTime": {
     "end_time": "2020-09-06T05:17:58.464964Z",
     "start_time": "2020-09-06T05:16:51.644030Z"
    },
    "scrolled": true
   },
   "outputs": [
    {
     "name": "stderr",
     "output_type": "stream",
     "text": [
      "\r",
      "  0%|          | 0/250 [00:00<?, ?it/s]"
     ]
    },
    {
     "name": "stdout",
     "output_type": "stream",
     "text": [
      "Running bit flip environment with 7 bits and HER policy: final\n"
     ]
    },
    {
     "name": "stderr",
     "output_type": "stream",
     "text": [
      "\r",
      "  0%|          | 1/250 [00:00<01:08,  3.65it/s]"
     ]
    },
    {
     "name": "stdout",
     "output_type": "stream",
     "text": [
      "Epoch: 0  Mean reward: -2.748652  Success rate: 0.4531 Mean loss: 2.9265\n"
     ]
    },
    {
     "name": "stderr",
     "output_type": "stream",
     "text": [
      "  4%|▍         | 11/250 [00:02<00:55,  4.29it/s]"
     ]
    },
    {
     "name": "stdout",
     "output_type": "stream",
     "text": [
      "Epoch: 10  Mean reward: -2.958071  Success rate: 0.3594 Mean loss: 2.9386\n"
     ]
    },
    {
     "name": "stderr",
     "output_type": "stream",
     "text": [
      "  8%|▊         | 21/250 [00:04<00:52,  4.37it/s]"
     ]
    },
    {
     "name": "stdout",
     "output_type": "stream",
     "text": [
      "Epoch: 20  Mean reward: -2.876043  Success rate: 0.5938 Mean loss: 2.9935\n"
     ]
    },
    {
     "name": "stderr",
     "output_type": "stream",
     "text": [
      " 12%|█▏        | 31/250 [00:07<00:50,  4.33it/s]"
     ]
    },
    {
     "name": "stdout",
     "output_type": "stream",
     "text": [
      "Epoch: 30  Mean reward: -1.103559  Success rate: 0.5312 Mean loss: 2.9108\n"
     ]
    },
    {
     "name": "stderr",
     "output_type": "stream",
     "text": [
      " 16%|█▋        | 41/250 [00:09<00:47,  4.36it/s]"
     ]
    },
    {
     "name": "stdout",
     "output_type": "stream",
     "text": [
      "Epoch: 40  Mean reward: -2.087672  Success rate: 0.6562 Mean loss: 2.8684\n"
     ]
    },
    {
     "name": "stderr",
     "output_type": "stream",
     "text": [
      " 20%|██        | 51/250 [00:11<00:45,  4.34it/s]"
     ]
    },
    {
     "name": "stdout",
     "output_type": "stream",
     "text": [
      "Epoch: 50  Mean reward: -2.501192  Success rate: 0.7031 Mean loss: 2.8114\n"
     ]
    },
    {
     "name": "stderr",
     "output_type": "stream",
     "text": [
      " 24%|██▍       | 61/250 [00:14<00:44,  4.21it/s]"
     ]
    },
    {
     "name": "stdout",
     "output_type": "stream",
     "text": [
      "Epoch: 60  Mean reward: -3.604990  Success rate: 0.8594 Mean loss: 2.6184\n"
     ]
    },
    {
     "name": "stderr",
     "output_type": "stream",
     "text": [
      " 28%|██▊       | 71/250 [00:16<00:43,  4.09it/s]"
     ]
    },
    {
     "name": "stdout",
     "output_type": "stream",
     "text": [
      "Epoch: 70  Mean reward: -2.023027  Success rate: 1.0000 Mean loss: 2.6573\n"
     ]
    },
    {
     "name": "stderr",
     "output_type": "stream",
     "text": [
      " 32%|███▏      | 81/250 [00:19<00:43,  3.86it/s]"
     ]
    },
    {
     "name": "stdout",
     "output_type": "stream",
     "text": [
      "Epoch: 80  Mean reward: -1.148559  Success rate: 0.9844 Mean loss: 2.5902\n"
     ]
    },
    {
     "name": "stderr",
     "output_type": "stream",
     "text": [
      " 36%|███▋      | 91/250 [00:21<00:39,  4.06it/s]"
     ]
    },
    {
     "name": "stdout",
     "output_type": "stream",
     "text": [
      "Epoch: 90  Mean reward: -3.563930  Success rate: 1.0000 Mean loss: 2.6015\n"
     ]
    },
    {
     "name": "stderr",
     "output_type": "stream",
     "text": [
      " 40%|████      | 101/250 [00:23<00:36,  4.08it/s]"
     ]
    },
    {
     "name": "stdout",
     "output_type": "stream",
     "text": [
      "Epoch: 100  Mean reward: -1.065150  Success rate: 1.0000 Mean loss: 2.3703\n"
     ]
    },
    {
     "name": "stderr",
     "output_type": "stream",
     "text": [
      " 44%|████▍     | 111/250 [00:26<00:35,  3.94it/s]"
     ]
    },
    {
     "name": "stdout",
     "output_type": "stream",
     "text": [
      "Epoch: 110  Mean reward: -1.879681  Success rate: 1.0000 Mean loss: 2.3284\n"
     ]
    },
    {
     "name": "stderr",
     "output_type": "stream",
     "text": [
      " 48%|████▊     | 121/250 [00:29<00:34,  3.70it/s]"
     ]
    },
    {
     "name": "stdout",
     "output_type": "stream",
     "text": [
      "Epoch: 120  Mean reward: -2.370778  Success rate: 1.0000 Mean loss: 2.2728\n"
     ]
    },
    {
     "name": "stderr",
     "output_type": "stream",
     "text": [
      " 52%|█████▏    | 131/250 [00:32<00:35,  3.39it/s]"
     ]
    },
    {
     "name": "stdout",
     "output_type": "stream",
     "text": [
      "Epoch: 130  Mean reward: -2.068291  Success rate: 1.0000 Mean loss: 2.1352\n"
     ]
    },
    {
     "name": "stderr",
     "output_type": "stream",
     "text": [
      " 56%|█████▋    | 141/250 [00:34<00:31,  3.43it/s]"
     ]
    },
    {
     "name": "stdout",
     "output_type": "stream",
     "text": [
      "Epoch: 140  Mean reward: -1.274600  Success rate: 1.0000 Mean loss: 2.2475\n"
     ]
    },
    {
     "name": "stderr",
     "output_type": "stream",
     "text": [
      " 60%|██████    | 151/250 [00:37<00:26,  3.71it/s]"
     ]
    },
    {
     "name": "stdout",
     "output_type": "stream",
     "text": [
      "Epoch: 150  Mean reward: -2.454343  Success rate: 1.0000 Mean loss: 2.2582\n"
     ]
    },
    {
     "name": "stderr",
     "output_type": "stream",
     "text": [
      " 64%|██████▍   | 161/250 [00:40<00:24,  3.56it/s]"
     ]
    },
    {
     "name": "stdout",
     "output_type": "stream",
     "text": [
      "Epoch: 160  Mean reward: -2.115935  Success rate: 1.0000 Mean loss: 2.0879\n"
     ]
    },
    {
     "name": "stderr",
     "output_type": "stream",
     "text": [
      " 68%|██████▊   | 171/250 [00:43<00:21,  3.67it/s]"
     ]
    },
    {
     "name": "stdout",
     "output_type": "stream",
     "text": [
      "Epoch: 170  Mean reward: -2.119853  Success rate: 1.0000 Mean loss: 2.1366\n"
     ]
    },
    {
     "name": "stderr",
     "output_type": "stream",
     "text": [
      " 72%|███████▏  | 181/250 [00:46<00:19,  3.51it/s]"
     ]
    },
    {
     "name": "stdout",
     "output_type": "stream",
     "text": [
      "Epoch: 180  Mean reward: -3.089492  Success rate: 1.0000 Mean loss: 2.0523\n"
     ]
    },
    {
     "name": "stderr",
     "output_type": "stream",
     "text": [
      " 76%|███████▋  | 191/250 [00:48<00:16,  3.49it/s]"
     ]
    },
    {
     "name": "stdout",
     "output_type": "stream",
     "text": [
      "Epoch: 190  Mean reward: -1.488000  Success rate: 1.0000 Mean loss: 2.1147\n"
     ]
    },
    {
     "name": "stderr",
     "output_type": "stream",
     "text": [
      " 80%|████████  | 201/250 [00:51<00:13,  3.51it/s]"
     ]
    },
    {
     "name": "stdout",
     "output_type": "stream",
     "text": [
      "Epoch: 200  Mean reward: -1.698521  Success rate: 1.0000 Mean loss: 1.9895\n"
     ]
    },
    {
     "name": "stderr",
     "output_type": "stream",
     "text": [
      " 84%|████████▍ | 211/250 [00:54<00:11,  3.37it/s]"
     ]
    },
    {
     "name": "stdout",
     "output_type": "stream",
     "text": [
      "Epoch: 210  Mean reward: -1.864898  Success rate: 1.0000 Mean loss: 1.9000\n"
     ]
    },
    {
     "name": "stderr",
     "output_type": "stream",
     "text": [
      " 88%|████████▊ | 221/250 [00:57<00:08,  3.42it/s]"
     ]
    },
    {
     "name": "stdout",
     "output_type": "stream",
     "text": [
      "Epoch: 220  Mean reward: -1.288315  Success rate: 1.0000 Mean loss: 1.9523\n"
     ]
    },
    {
     "name": "stderr",
     "output_type": "stream",
     "text": [
      " 92%|█████████▏| 231/250 [01:00<00:05,  3.33it/s]"
     ]
    },
    {
     "name": "stdout",
     "output_type": "stream",
     "text": [
      "Epoch: 230  Mean reward: -1.203640  Success rate: 1.0000 Mean loss: 1.9273\n"
     ]
    },
    {
     "name": "stderr",
     "output_type": "stream",
     "text": [
      " 96%|█████████▋| 241/250 [01:03<00:02,  3.09it/s]"
     ]
    },
    {
     "name": "stdout",
     "output_type": "stream",
     "text": [
      "Epoch: 240  Mean reward: -1.897920  Success rate: 1.0000 Mean loss: 1.9430\n"
     ]
    },
    {
     "name": "stderr",
     "output_type": "stream",
     "text": [
      "100%|██████████| 250/250 [01:06<00:00,  3.76it/s]\n"
     ]
    }
   ],
   "source": [
    "results = x.run_games(n=1)"
   ]
  },
  {
   "cell_type": "code",
   "execution_count": null,
   "metadata": {
    "ExecuteTime": {
     "end_time": "2020-09-06T05:09:23.015363Z",
     "start_time": "2020-09-06T05:07:17.741Z"
    },
    "code_folding": [],
    "run_control": {
     "marked": false
    }
   },
   "outputs": [],
   "source": [
    "# pass success rate for each run as first argument and labels as second list\n",
    "for i in range(3):\n",
    "    plot_success_rate([results[i]], ['final'])"
   ]
  },
  {
   "cell_type": "code",
   "execution_count": null,
   "metadata": {
    "ExecuteTime": {
     "end_time": "2020-09-06T05:09:23.019190Z",
     "start_time": "2020-09-06T05:07:18.909Z"
    }
   },
   "outputs": [],
   "source": [
    "%matplotlib inline\n",
    "plot_success_rate(results, ['final']*5)"
   ]
  },
  {
   "cell_type": "code",
   "execution_count": null,
   "metadata": {
    "ExecuteTime": {
     "end_time": "2020-09-06T05:09:23.023131Z",
     "start_time": "2020-09-06T05:07:19.405Z"
    }
   },
   "outputs": [],
   "source": [
    "for i in range(len(results)):\n",
    "    plt.plot(results[i], label='', )\n",
    "\n",
    "#plt.plot(np.mean(results, axis=0), label='', c='black')\n",
    "\n",
    "plt.xlabel('Epochs')\n",
    "plt.ylabel('Success rate')\n",
    "plt.title('Success rate with %d bits' % num_bits)\n",
    "plt.ylim(-0.05, 1.05)\n",
    "plt.axhline(0, c='gray', alpha=0.3 )\n",
    "plt.axhline(1, c='gray', alpha=0.3 )\n",
    "#plt.legend()\n",
    "plt.show()\n"
   ]
  },
  {
   "cell_type": "markdown",
   "metadata": {},
   "source": [
    "a)"
   ]
  },
  {
   "cell_type": "code",
   "execution_count": null,
   "metadata": {
    "ExecuteTime": {
     "end_time": "2020-09-06T05:09:23.026783Z",
     "start_time": "2020-09-06T05:07:20.228Z"
    }
   },
   "outputs": [],
   "source": [
    "x = experiment(HER=\"None\", \n",
    "               num_bits=7, \n",
    "               num_epochs=250,\n",
    "               log_interval=50,\n",
    "               opt_steps=40,\n",
    "               num_episodes=64)\n",
    "\n",
    "results = x.run_games(n=5)"
   ]
  },
  {
   "cell_type": "code",
   "execution_count": 139,
   "metadata": {
    "ExecuteTime": {
     "end_time": "2020-08-30T04:14:53.436709Z",
     "start_time": "2020-08-30T04:14:53.305811Z"
    }
   },
   "outputs": [
    {
     "data": {
      "image/png": "[encoded data removed]",
      "text/plain": [
       "<Figure size 432x288 with 1 Axes>"
      ]
     },
     "metadata": {
      "needs_background": "light"
     },
     "output_type": "display_data"
    }
   ],
   "source": [
    "for i in range(len(results)):\n",
    "    plt.plot(results[i], label='' )\n",
    "\n",
    "#plt.plot(np.mean(results, axis=0), label='', c='black')\n",
    "\n",
    "plt.xlabel('Epochs')\n",
    "plt.ylabel('Success rate')\n",
    "plt.title('Success rate with {} bits\\nHER = \"None\"'.format(num_bits))\n",
    "plt.ylim(-0.05, 1.05)\n",
    "plt.axhline(0, c='gray', alpha=0.3 )\n",
    "plt.axhline(1, c='gray', alpha=0.3 )\n",
    "#plt.legend()\n",
    "plt.show()"
   ]
  },
  {
   "cell_type": "code",
   "execution_count": 140,
   "metadata": {
    "ExecuteTime": {
     "end_time": "2020-08-30T04:20:22.207503Z",
     "start_time": "2020-08-30T04:15:08.567920Z"
    }
   },
   "outputs": [
    {
     "name": "stdout",
     "output_type": "stream",
     "text": [
      "Running bit flip environment with 7 bits and HER policy: final\n",
      "Epoch: 0  Mean reward: -6.516273  Success rate: 0.0000 Mean loss: 4.8766\n",
      "Epoch: 50  Mean reward: -2.930850  Success rate: 0.4375 Mean loss: 2.7422\n",
      "Epoch: 100  Mean reward: -1.973752  Success rate: 0.9375 Mean loss: 2.7141\n",
      "Epoch: 150  Mean reward: -1.356013  Success rate: 1.0000 Mean loss: 2.2749\n",
      "Epoch: 200  Mean reward: -1.835009  Success rate: 1.0000 Mean loss: 2.1341\n",
      "Running bit flip environment with 7 bits and HER policy: final\n",
      "Epoch: 0  Mean reward: -5.458490  Success rate: 0.0156 Mean loss: 4.1286\n",
      "Epoch: 50  Mean reward: -3.040046  Success rate: 0.2969 Mean loss: 2.8477\n",
      "Epoch: 100  Mean reward: -3.067343  Success rate: 0.4531 Mean loss: 2.7345\n",
      "Epoch: 150  Mean reward: -1.604520  Success rate: 0.6562 Mean loss: 2.2470\n",
      "Epoch: 200  Mean reward: -1.302050  Success rate: 0.9062 Mean loss: 2.0231\n",
      "Running bit flip environment with 7 bits and HER policy: final\n",
      "Epoch: 0  Mean reward: -7.326097  Success rate: 0.0156 Mean loss: 4.3326\n",
      "Epoch: 50  Mean reward: -3.598151  Success rate: 0.1719 Mean loss: 3.2877\n",
      "Epoch: 100  Mean reward: -3.499950  Success rate: 0.3750 Mean loss: 2.9862\n",
      "Epoch: 150  Mean reward: -2.148888  Success rate: 0.6562 Mean loss: 2.5328\n",
      "Epoch: 200  Mean reward: -2.628508  Success rate: 0.9531 Mean loss: 2.2708\n",
      "Running bit flip environment with 7 bits and HER policy: final\n",
      "Epoch: 0  Mean reward: -2.081720  Success rate: 0.0156 Mean loss: 5.2460\n",
      "Epoch: 50  Mean reward: -2.768833  Success rate: 0.1250 Mean loss: 3.3861\n",
      "Epoch: 100  Mean reward: -4.420253  Success rate: 0.3906 Mean loss: 3.6945\n",
      "Epoch: 150  Mean reward: -1.392263  Success rate: 1.0000 Mean loss: 3.0787\n",
      "Epoch: 200  Mean reward: -1.045511  Success rate: 1.0000 Mean loss: 2.5321\n",
      "Running bit flip environment with 7 bits and HER policy: final\n",
      "Epoch: 0  Mean reward: -5.228187  Success rate: 0.0000 Mean loss: 4.4173\n",
      "Epoch: 50  Mean reward: -4.153293  Success rate: 0.1719 Mean loss: 3.1476\n",
      "Epoch: 100  Mean reward: -2.667982  Success rate: 0.6094 Mean loss: 3.0497\n",
      "Epoch: 150  Mean reward: -1.975025  Success rate: 1.0000 Mean loss: 2.5816\n",
      "Epoch: 200  Mean reward: -1.359087  Success rate: 1.0000 Mean loss: 2.2527\n"
     ]
    }
   ],
   "source": [
    "x = experiment(HER=\"final\", \n",
    "               num_bits=7, \n",
    "               num_epochs=250,\n",
    "               log_interval=50,\n",
    "               opt_steps=40,\n",
    "               num_episodes=64)\n",
    "\n",
    "results = x.run_games(n=5)"
   ]
  },
  {
   "cell_type": "code",
   "execution_count": 141,
   "metadata": {
    "ExecuteTime": {
     "end_time": "2020-08-30T04:20:24.417955Z",
     "start_time": "2020-08-30T04:20:24.280818Z"
    }
   },
   "outputs": [
    {
     "data": {
      "image/png": "[encoded data removed]",
      "text/plain": [
       "<Figure size 432x288 with 1 Axes>"
      ]
     },
     "metadata": {
      "needs_background": "light"
     },
     "output_type": "display_data"
    }
   ],
   "source": [
    "\n",
    "for i in range(len(results)):\n",
    "    plt.plot(results[i], label='' )\n",
    "\n",
    "#plt.plot(np.mean(results, axis=0), label='', c='black')\n",
    "\n",
    "plt.xlabel('Epochs')\n",
    "plt.ylabel('Success rate')\n",
    "plt.title('Success rate with {} bits\\nHER = \"final\"'.format(num_bits))\n",
    "plt.ylim(-0.05, 1.05)\n",
    "plt.axhline(0, c='gray', alpha=0.3 )\n",
    "plt.axhline(1, c='gray', alpha=0.3 )\n",
    "#plt.legend()\n",
    "plt.show()"
   ]
  },
  {
   "cell_type": "markdown",
   "metadata": {},
   "source": [
    "b)"
   ]
  },
  {
   "cell_type": "code",
   "execution_count": 194,
   "metadata": {
    "ExecuteTime": {
     "end_time": "2020-08-30T04:59:41.137793Z",
     "start_time": "2020-08-30T04:49:21.482372Z"
    }
   },
   "outputs": [
    {
     "name": "stdout",
     "output_type": "stream",
     "text": [
      "Running bit flip environment with 8 bits and HER policy: None\n",
      "Epoch: 0  Mean reward: -6.975331  Success rate: 0.0000 Mean loss: 7.5265\n",
      "Epoch: 50  Mean reward: -2.702182  Success rate: 0.1406 Mean loss: 0.3189\n",
      "Epoch: 100  Mean reward: -1.913644  Success rate: 0.9375 Mean loss: 0.8092\n",
      "Epoch: 150  Mean reward: -1.199809  Success rate: 1.0000 Mean loss: 1.2174\n",
      "Epoch: 200  Mean reward: -1.942960  Success rate: 1.0000 Mean loss: 0.9492\n",
      "Epoch: 250  Mean reward: -1.852154  Success rate: 1.0000 Mean loss: 0.7382\n",
      "Epoch: 300  Mean reward: -1.517837  Success rate: 1.0000 Mean loss: 0.5283\n",
      "Epoch: 350  Mean reward: -3.190156  Success rate: 1.0000 Mean loss: 0.4171\n",
      "Epoch: 400  Mean reward: -1.270134  Success rate: 0.9375 Mean loss: 0.3402\n",
      "Epoch: 450  Mean reward: -2.733894  Success rate: 0.9844 Mean loss: 0.3036\n",
      "Running bit flip environment with 8 bits and HER policy: None\n",
      "Epoch: 0  Mean reward: -6.227578  Success rate: 0.0156 Mean loss: 9.3738\n",
      "Epoch: 50  Mean reward: -5.081169  Success rate: 0.1562 Mean loss: 0.2915\n",
      "Epoch: 100  Mean reward: -2.375007  Success rate: 1.0000 Mean loss: 0.7827\n",
      "Epoch: 150  Mean reward: -3.947389  Success rate: 1.0000 Mean loss: 1.1561\n",
      "Epoch: 200  Mean reward: -1.366646  Success rate: 1.0000 Mean loss: 1.0576\n",
      "Epoch: 250  Mean reward: -1.912829  Success rate: 1.0000 Mean loss: 0.7645\n",
      "Epoch: 300  Mean reward: -1.446707  Success rate: 1.0000 Mean loss: 0.6032\n",
      "Epoch: 350  Mean reward: -1.713033  Success rate: 1.0000 Mean loss: 0.4950\n",
      "Epoch: 400  Mean reward: -1.506558  Success rate: 0.9844 Mean loss: 0.4240\n",
      "Epoch: 450  Mean reward: -1.965896  Success rate: 1.0000 Mean loss: 0.3220\n",
      "Running bit flip environment with 8 bits and HER policy: None\n",
      "Epoch: 0  Mean reward: -5.422106  Success rate: 0.0000 Mean loss: 8.1634\n",
      "Epoch: 50  Mean reward: -5.340382  Success rate: 0.3281 Mean loss: 0.3004\n",
      "Epoch: 100  Mean reward: -3.709834  Success rate: 1.0000 Mean loss: 0.7886\n",
      "Epoch: 150  Mean reward: -1.051463  Success rate: 1.0000 Mean loss: 1.1479\n",
      "Epoch: 200  Mean reward: -3.576670  Success rate: 1.0000 Mean loss: 0.9249\n",
      "Epoch: 250  Mean reward: -2.687993  Success rate: 1.0000 Mean loss: 0.7088\n",
      "Epoch: 300  Mean reward: -3.548595  Success rate: 1.0000 Mean loss: 0.5008\n",
      "Epoch: 350  Mean reward: -2.764205  Success rate: 1.0000 Mean loss: 0.4532\n",
      "Epoch: 400  Mean reward: -3.151615  Success rate: 1.0000 Mean loss: 0.4003\n",
      "Epoch: 450  Mean reward: -3.590676  Success rate: 1.0000 Mean loss: 0.3264\n",
      "Running bit flip environment with 8 bits and HER policy: None\n",
      "Epoch: 0  Mean reward: -9.527139  Success rate: 0.0000 Mean loss: 7.6808\n",
      "Epoch: 50  Mean reward: -2.955364  Success rate: 0.2969 Mean loss: 0.2918\n",
      "Epoch: 100  Mean reward: -3.113269  Success rate: 1.0000 Mean loss: 0.8480\n",
      "Epoch: 150  Mean reward: -1.550311  Success rate: 1.0000 Mean loss: 1.1078\n",
      "Epoch: 200  Mean reward: -1.593003  Success rate: 1.0000 Mean loss: 0.8806\n",
      "Epoch: 250  Mean reward: -1.663062  Success rate: 1.0000 Mean loss: 0.6857\n",
      "Epoch: 300  Mean reward: -1.631616  Success rate: 0.9844 Mean loss: 0.6073\n",
      "Epoch: 350  Mean reward: -1.947377  Success rate: 1.0000 Mean loss: 0.3670\n",
      "Epoch: 400  Mean reward: -1.663357  Success rate: 1.0000 Mean loss: 0.3379\n",
      "Epoch: 450  Mean reward: -1.837363  Success rate: 1.0000 Mean loss: 0.3652\n",
      "Running bit flip environment with 8 bits and HER policy: None\n",
      "Epoch: 0  Mean reward: -5.810357  Success rate: 0.0156 Mean loss: 7.9366\n",
      "Epoch: 50  Mean reward: -2.333376  Success rate: 0.5938 Mean loss: 0.3187\n",
      "Epoch: 100  Mean reward: -3.022592  Success rate: 1.0000 Mean loss: 0.9312\n",
      "Epoch: 150  Mean reward: -1.902665  Success rate: 1.0000 Mean loss: 1.0442\n",
      "Epoch: 200  Mean reward: -1.527639  Success rate: 1.0000 Mean loss: 0.8559\n",
      "Epoch: 250  Mean reward: -1.518408  Success rate: 1.0000 Mean loss: 0.6137\n",
      "Epoch: 300  Mean reward: -1.951958  Success rate: 1.0000 Mean loss: 0.4908\n",
      "Epoch: 350  Mean reward: -2.780261  Success rate: 1.0000 Mean loss: 0.3831\n",
      "Epoch: 400  Mean reward: -2.937215  Success rate: 1.0000 Mean loss: 0.3348\n",
      "Epoch: 450  Mean reward: -2.354356  Success rate: 1.0000 Mean loss: 0.3132\n"
     ]
    }
   ],
   "source": [
    "num_bits = 15\n",
    "x = experiment(HER=\"None\", \n",
    "               num_bits=num_bits, \n",
    "               num_epochs=500,\n",
    "               log_interval=50,\n",
    "               opt_steps=40,\n",
    "               num_episodes=64)\n",
    "\n",
    "results = x.run_games(n=5)"
   ]
  },
  {
   "cell_type": "code",
   "execution_count": 195,
   "metadata": {
    "ExecuteTime": {
     "end_time": "2020-08-30T04:59:43.674484Z",
     "start_time": "2020-08-30T04:59:43.535110Z"
    }
   },
   "outputs": [
    {
     "data": {
      "image/png": "[encoded data removed]",
      "text/plain": [
       "<Figure size 432x288 with 1 Axes>"
      ]
     },
     "metadata": {
      "needs_background": "light"
     },
     "output_type": "display_data"
    }
   ],
   "source": [
    "for i in range(len(results)):\n",
    "    plt.plot(results[i], label='' )\n",
    "\n",
    "#plt.plot(np.mean(results, axis=0), label='', c='black')\n",
    "\n",
    "plt.xlabel('Epochs')\n",
    "plt.ylabel('Success rate')\n",
    "plt.title('Success rate with {} bits\\nHER = \"None\"'.format(num_bits))\n",
    "plt.ylim(-0.05, 1.05)\n",
    "plt.axhline(0, c='gray', alpha=0.3 )\n",
    "plt.axhline(1, c='gray', alpha=0.3 )\n",
    "#plt.legend()\n",
    "plt.show()"
   ]
  },
  {
   "cell_type": "code",
   "execution_count": null,
   "metadata": {
    "ExecuteTime": {
     "end_time": "2020-08-30T04:41:00.363051Z",
     "start_time": "2020-08-30T04:39:02.950Z"
    }
   },
   "outputs": [],
   "source": [
    "x = experiment(HER=\"final\", \n",
    "               num_bits=8, \n",
    "               num_epochs=500,\n",
    "               log_interval=50,\n",
    "               opt_steps=40,\n",
    "               num_episodes=64)\n",
    "\n",
    "results = x.run_games(n=5)"
   ]
  },
  {
   "cell_type": "code",
   "execution_count": null,
   "metadata": {
    "ExecuteTime": {
     "end_time": "2020-08-30T04:41:00.379014Z",
     "start_time": "2020-08-30T04:39:03.429Z"
    }
   },
   "outputs": [],
   "source": [
    "for i in range(len(results)):\n",
    "    plt.plot(results[i], label='' )\n",
    "\n",
    "#plt.plot(np.mean(results, axis=0), label='', c='black')\n",
    "\n",
    "plt.xlabel('Epochs')\n",
    "plt.ylabel('Success rate')\n",
    "plt.title('Success rate with {} bits\\nHER = \"final\"'.format(num_bits))\n",
    "plt.ylim(-0.05, 1.05)\n",
    "plt.axhline(0, c='gray', alpha=0.3 )\n",
    "plt.axhline(1, c='gray', alpha=0.3 )\n",
    "#plt.legend()\n",
    "plt.show()"
   ]
  },
  {
   "cell_type": "code",
   "execution_count": null,
   "metadata": {},
   "outputs": [],
   "source": []
  }
 ],
 "metadata": {
  "kernelspec": {
   "display_name": "Python 3",
   "language": "python",
   "name": "python3"
  },
  "language_info": {
   "codemirror_mode": {
    "name": "ipython",
    "version": 3
   },
   "file_extension": ".py",
   "mimetype": "text/x-python",
   "name": "python",
   "nbconvert_exporter": "python",
   "pygments_lexer": "ipython3",
   "version": "3.7.7"
  },
  "toc": {
   "base_numbering": 1,
   "nav_menu": {},
   "number_sections": false,
   "sideBar": true,
   "skip_h1_title": false,
   "title_cell": "Table of Contents",
   "title_sidebar": "Contents",
   "toc_cell": false,
   "toc_position": {},
   "toc_section_display": true,
   "toc_window_display": false
  },
  "varInspector": {
   "cols": {
    "lenName": 16,
    "lenType": 16,
    "lenVar": 40
   },
   "kernels_config": {
    "python": {
     "delete_cmd_postfix": "",
     "delete_cmd_prefix": "del ",
     "library": "var_list.py",
     "varRefreshCmd": "print(var_dic_list())"
    },
    "r": {
     "delete_cmd_postfix": ") ",
     "delete_cmd_prefix": "rm(",
     "library": "var_list.r",
     "varRefreshCmd": "cat(var_dic_list()) "
    }
   },
   "types_to_exclude": [
    "module",
    "function",
    "builtin_function_or_method",
    "instance",
    "_Feature"
   ],
   "window_display": false
  }
 },
 "nbformat": 4,
 "nbformat_minor": 4
}
