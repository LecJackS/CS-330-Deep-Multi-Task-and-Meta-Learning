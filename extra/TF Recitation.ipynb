{
 "cells": [
  {
   "cell_type": "code",
   "execution_count": 1,
   "metadata": {},
   "outputs": [
    {
     "name": "stdout",
     "output_type": "stream",
     "text": [
      "1.14.0\n"
     ]
    }
   ],
   "source": [
    "import tensorflow as tf\n",
    "print(tf.__version__)"
   ]
  },
  {
   "cell_type": "code",
   "execution_count": 2,
   "metadata": {},
   "outputs": [],
   "source": [
    "# first, create a TensorFlow constant\n",
    "const = tf.constant(2.0, name=\"const\")\n",
    "    \n",
    "# create TensorFlow variables\n",
    "b = tf.Variable(20.0, name='b')\n",
    "c = tf.Variable(2.0, name='c')"
   ]
  },
  {
   "cell_type": "code",
   "execution_count": 3,
   "metadata": {},
   "outputs": [
    {
     "name": "stdout",
     "output_type": "stream",
     "text": [
      "Tensor(\"const:0\", shape=(), dtype=float32)\n",
      "<tf.Variable 'b:0' shape=() dtype=float32_ref> <tf.Variable 'c:0' shape=() dtype=float32_ref>\n"
     ]
    }
   ],
   "source": [
    "print(const)\n",
    "print(b, c)"
   ]
  },
  {
   "cell_type": "code",
   "execution_count": 4,
   "metadata": {},
   "outputs": [],
   "source": [
    "a = b + c\n",
    "exp = a**const"
   ]
  },
  {
   "cell_type": "code",
   "execution_count": 5,
   "metadata": {},
   "outputs": [
    {
     "name": "stdout",
     "output_type": "stream",
     "text": [
      "Tensor(\"add:0\", shape=(), dtype=float32) Tensor(\"pow:0\", shape=(), dtype=float32)\n"
     ]
    }
   ],
   "source": [
    "print(a, exp)"
   ]
  },
  {
   "cell_type": "code",
   "execution_count": 6,
   "metadata": {},
   "outputs": [
    {
     "name": "stdout",
     "output_type": "stream",
     "text": [
      "WARNING:tensorflow:From /Users/surajnair/anaconda3/envs/py36/lib/python3.6/site-packages/tensorflow/python/ops/math_grad.py:1205: add_dispatch_support.<locals>.wrapper (from tensorflow.python.ops.array_ops) is deprecated and will be removed in a future version.\n",
      "Instructions for updating:\n",
      "Use tf.where in 2.0, which has the same broadcast rule as np.where\n"
     ]
    }
   ],
   "source": [
    "placeholder = tf.placeholder(tf.float32, [1], name='ph')\n",
    "d = a + placeholder\n",
    "optim = tf.train.AdamOptimizer(learning_rate=0.001).minimize(exp)"
   ]
  },
  {
   "cell_type": "code",
   "execution_count": 7,
   "metadata": {},
   "outputs": [
    {
     "name": "stdout",
     "output_type": "stream",
     "text": [
      "Tensor(\"ph:0\", shape=(1,), dtype=float32) Tensor(\"add_1:0\", shape=(1,), dtype=float32)\n"
     ]
    }
   ],
   "source": [
    "print(placeholder, d)"
   ]
  },
  {
   "cell_type": "code",
   "execution_count": 8,
   "metadata": {},
   "outputs": [],
   "source": [
    "sess = tf.Session()\n",
    "sess.run(tf.global_variables_initializer())"
   ]
  },
  {
   "cell_type": "code",
   "execution_count": 9,
   "metadata": {},
   "outputs": [
    {
     "name": "stdout",
     "output_type": "stream",
     "text": [
      "<tensorflow.python.framework.ops.Graph object at 0xb30fd9e10>\n",
      "[_DeviceAttributes(/job:localhost/replica:0/task:0/device:CPU:0, CPU, 268435456, 4199115518498015870)]\n"
     ]
    }
   ],
   "source": [
    "print(sess.graph)\n",
    "print(sess.list_devices())"
   ]
  },
  {
   "cell_type": "code",
   "execution_count": 10,
   "metadata": {},
   "outputs": [
    {
     "name": "stdout",
     "output_type": "stream",
     "text": [
      "20.0\n",
      "2.0\n",
      "22.0\n",
      "484.0\n"
     ]
    }
   ],
   "source": [
    "print(sess.run(b))\n",
    "print(sess.run(c))\n",
    "print(sess.run(a))\n",
    "print(sess.run(exp))"
   ]
  },
  {
   "cell_type": "code",
   "execution_count": 11,
   "metadata": {},
   "outputs": [
    {
     "data": {
      "text/plain": [
       "array([52.], dtype=float32)"
      ]
     },
     "execution_count": 11,
     "metadata": {},
     "output_type": "execute_result"
    }
   ],
   "source": [
    "sess.run(d, feed_dict={placeholder:[30]})"
   ]
  },
  {
   "cell_type": "code",
   "execution_count": 12,
   "metadata": {},
   "outputs": [
    {
     "name": "stdout",
     "output_type": "stream",
     "text": [
      "4.9 14.0\n",
      "3.038925 6.2529726\n",
      "1.9651484 5.000059\n",
      "1.8545594 5.02322\n",
      "2.001842 5.000007\n",
      "2.0180612 5.0003743\n",
      "1.9966067 5.000009\n",
      "1.9986593 5.0000024\n",
      "2.0008202 5.000001\n",
      "1.9998612 5.0\n",
      "1.9999605 5.0\n",
      "2.0000343 5.0\n",
      "1.999988 5.0\n",
      "2.0000021 5.0\n",
      "2.0000002 5.0\n",
      "1.9999998 5.0\n",
      "2.0 5.0\n",
      "2.0 5.0\n",
      "2.0 5.0\n",
      "2.0 5.0\n",
      "2.0 5.0\n",
      "2.0 5.0\n",
      "2.0 5.0\n",
      "2.0 5.0\n",
      "2.0 5.0\n"
     ]
    }
   ],
   "source": [
    "x = tf.Variable(5.0)\n",
    "out = 5 + (x-2)**2\n",
    "optim = tf.train.AdamOptimizer(learning_rate=0.1).minimize(out)\n",
    "sess = tf.Session()\n",
    "sess.run(tf.global_variables_initializer())\n",
    "for i in range(500):\n",
    "    _, x_val, out_val = sess.run([optim, x, out])\n",
    "    if i % 20 == 0:\n",
    "        print(x_val, out_val)"
   ]
  },
  {
   "cell_type": "code",
   "execution_count": 13,
   "metadata": {},
   "outputs": [
    {
     "name": "stdout",
     "output_type": "stream",
     "text": [
      "WARNING:tensorflow:From <ipython-input-13-d6758b79dcf4>:2: read_data_sets (from tensorflow.contrib.learn.python.learn.datasets.mnist) is deprecated and will be removed in a future version.\n",
      "Instructions for updating:\n",
      "Please use alternatives such as official/mnist/dataset.py from tensorflow/models.\n",
      "WARNING:tensorflow:From /Users/surajnair/anaconda3/envs/py36/lib/python3.6/site-packages/tensorflow/contrib/learn/python/learn/datasets/mnist.py:260: maybe_download (from tensorflow.contrib.learn.python.learn.datasets.base) is deprecated and will be removed in a future version.\n",
      "Instructions for updating:\n",
      "Please write your own downloading logic.\n",
      "WARNING:tensorflow:From /Users/surajnair/anaconda3/envs/py36/lib/python3.6/site-packages/tensorflow/contrib/learn/python/learn/datasets/mnist.py:262: extract_images (from tensorflow.contrib.learn.python.learn.datasets.mnist) is deprecated and will be removed in a future version.\n",
      "Instructions for updating:\n",
      "Please use tf.data to implement this functionality.\n",
      "Extracting MNIST_data/train-images-idx3-ubyte.gz\n",
      "WARNING:tensorflow:From /Users/surajnair/anaconda3/envs/py36/lib/python3.6/site-packages/tensorflow/contrib/learn/python/learn/datasets/mnist.py:267: extract_labels (from tensorflow.contrib.learn.python.learn.datasets.mnist) is deprecated and will be removed in a future version.\n",
      "Instructions for updating:\n",
      "Please use tf.data to implement this functionality.\n",
      "Extracting MNIST_data/train-labels-idx1-ubyte.gz\n",
      "WARNING:tensorflow:From /Users/surajnair/anaconda3/envs/py36/lib/python3.6/site-packages/tensorflow/contrib/learn/python/learn/datasets/mnist.py:110: dense_to_one_hot (from tensorflow.contrib.learn.python.learn.datasets.mnist) is deprecated and will be removed in a future version.\n",
      "Instructions for updating:\n",
      "Please use tf.one_hot on tensors.\n",
      "Extracting MNIST_data/t10k-images-idx3-ubyte.gz\n",
      "Extracting MNIST_data/t10k-labels-idx1-ubyte.gz\n",
      "WARNING:tensorflow:From /Users/surajnair/anaconda3/envs/py36/lib/python3.6/site-packages/tensorflow/contrib/learn/python/learn/datasets/mnist.py:290: DataSet.__init__ (from tensorflow.contrib.learn.python.learn.datasets.mnist) is deprecated and will be removed in a future version.\n",
      "Instructions for updating:\n",
      "Please use alternatives such as official/mnist/dataset.py from tensorflow/models.\n",
      "Epoch: 1 cost = 0.393\n",
      "Epoch: 2 cost = 0.216\n",
      "Epoch: 3 cost = 0.174\n",
      "Epoch: 4 cost = 0.157\n",
      "Epoch: 5 cost = 0.142\n",
      "Epoch: 6 cost = 0.140\n",
      "Epoch: 7 cost = 0.119\n",
      "Epoch: 8 cost = 0.121\n",
      "Epoch: 9 cost = 0.120\n",
      "Epoch: 10 cost = 0.114\n",
      "0.9733\n"
     ]
    }
   ],
   "source": [
    "from tensorflow.examples.tutorials.mnist import input_data\n",
    "mnist = input_data.read_data_sets(\"MNIST_data/\", one_hot=True)\n",
    "\n",
    "# Python optimisation variables\n",
    "learning_rate = 0.01\n",
    "epochs = 10\n",
    "batch_size = 100\n",
    "\n",
    "# declare the training data placeholders\n",
    "# input x - for 28 x 28 pixels = 784\n",
    "x = tf.placeholder(tf.float32, [None, 784])\n",
    "# now declare the output data placeholder - 10 digits\n",
    "y = tf.placeholder(tf.float32, [None, 10])\n",
    "\n",
    "# now declare the weights connecting the input to the hidden layer\n",
    "W1 = tf.Variable(tf.random_normal([784, 300], stddev=0.03), name='W1')\n",
    "b1 = tf.Variable(tf.random_normal([300]), name='b1')\n",
    "# and the weights connecting the hidden layer to the output layer\n",
    "W2 = tf.Variable(tf.random_normal([300, 10], stddev=0.03), name='W2')\n",
    "b2 = tf.Variable(tf.random_normal([10]), name='b2')\n",
    "\n",
    "# calculate the output of the hidden layer\n",
    "hidden_out = tf.add(tf.matmul(x, W1), b1)\n",
    "hidden_out = tf.nn.relu(hidden_out)\n",
    "\n",
    "y_ = tf.nn.softmax(tf.add(tf.matmul(hidden_out, W2), b2))\n",
    "\n",
    "y_clipped = tf.clip_by_value(y_, 1e-10, 0.9999999)\n",
    "cross_entropy = -tf.reduce_mean(tf.reduce_sum(y * tf.log(y_clipped)\n",
    "                         + (1 - y) * tf.log(1 - y_clipped), axis=1))\n",
    "\n",
    "optim = tf.train.AdamOptimizer(learning_rate=learning_rate).minimize(cross_entropy)\n",
    "\n",
    "# finally setup the initialisation operator\n",
    "init_op = tf.global_variables_initializer()\n",
    "\n",
    "# define an accuracy assessment operation\n",
    "correct_prediction = tf.equal(tf.argmax(y, 1), tf.argmax(y_, 1))\n",
    "accuracy = tf.reduce_mean(tf.cast(correct_prediction, tf.float32))\n",
    "\n",
    "\n",
    "# start the session\n",
    "with tf.Session() as sess:\n",
    "    # initialise the variables\n",
    "    sess.run(init_op)\n",
    "    total_batch = int(len(mnist.train.labels) / batch_size)\n",
    "    for epoch in range(epochs):\n",
    "        avg_cost = 0\n",
    "        for i in range(total_batch):\n",
    "            batch_x, batch_y = mnist.train.next_batch(batch_size=batch_size)\n",
    "            _, c = sess.run([optim, cross_entropy], \n",
    "                            feed_dict={x: batch_x, y: batch_y})\n",
    "            avg_cost += c / total_batch\n",
    "        print(\"Epoch:\", (epoch + 1), \"cost =\", \"{:.3f}\".format(avg_cost))\n",
    "    print(sess.run(accuracy, feed_dict={x: mnist.test.images, y: mnist.test.labels}))"
   ]
  },
  {
   "cell_type": "code",
   "execution_count": 14,
   "metadata": {},
   "outputs": [],
   "source": [
    "class Test(tf.keras.Model):\n",
    "    def __init__(self, num_classes, samples_per_class):\n",
    "        super(Test, self).__init__()\n",
    "        self.dense = tf.keras.layers.Dense(128, 2)\n",
    "        self.relu = tf.nn.ReLU()\n",
    "\n",
    "    def call(self, input_tensor):\n",
    "        return self.relu(self.dense(input_tensor))"
   ]
  },
  {
   "cell_type": "code",
   "execution_count": 15,
   "metadata": {},
   "outputs": [
    {
     "name": "stdout",
     "output_type": "stream",
     "text": [
      "[4.94] [5.] [14.]\n",
      "[3.9627678] [4.0028243] [9.011305]\n",
      "[3.3103592] [3.3371012] [6.78784]\n",
      "[2.8748062] [2.8926594] [5.7968407]\n",
      "[2.5840275] [2.5959466] [5.355152]\n",
      "[2.3899012] [2.3978584] [5.1582913]\n",
      "[2.260301] [2.2656133] [5.0705504]\n",
      "[2.173779] [2.1773255] [5.0314445]\n",
      "[2.1160166] [2.1183844] [5.0140147]\n",
      "[2.0774534] [2.079034] [5.0062466]\n",
      "[2.051708] [2.0527632] [5.002784]\n",
      "[2.0345204] [2.035225] [5.0012407]\n",
      "[2.023046] [2.0235164] [5.000553]\n",
      "[2.0153854] [2.0156994] [5.0002465]\n",
      "[2.0102715] [2.010481] [5.0001097]\n",
      "[2.0068574] [2.0069973] [5.000049]\n",
      "[2.004578] [2.0046716] [5.000022]\n",
      "[2.0030568] [2.0031192] [5.0000095]\n",
      "[2.0020409] [2.0020826] [5.0000043]\n",
      "[2.0013623] [2.0013902] [5.000002]\n",
      "[2.0009098] [2.0009284] [5.000001]\n",
      "[2.0006075] [2.00062] [5.0000005]\n",
      "[2.0004056] [2.000414] [5.]\n",
      "[2.0002706] [2.000276] [5.]\n",
      "[2.0001807] [2.0001843] [5.]\n"
     ]
    }
   ],
   "source": [
    "import numpy as np\n",
    "\n",
    "x = tf.placeholder(tf.float32, [1])\n",
    "out = 5 + (x-2)**2\n",
    "grad = tf.gradients(out, x)\n",
    "xnew = x - 0.01 * grad[0]\n",
    "# optim = tf.train.AdamOptimizer(learning_rate=0.1).minimize(out)\n",
    "sess = tf.Session()\n",
    "sess.run(tf.global_variables_initializer())\n",
    "xlast = np.array([5.0])\n",
    "for i in range(500):\n",
    "    nx, x_val, out_val = sess.run([xnew, x, out], feed_dict={x:xlast})\n",
    "    xlast = nx\n",
    "    if i % 20 == 0:\n",
    "        print(nx , x_val, out_val)"
   ]
  },
  {
   "cell_type": "code",
   "execution_count": 16,
   "metadata": {},
   "outputs": [],
   "source": [
    "import tensorflow_probability as tfp"
   ]
  },
  {
   "cell_type": "code",
   "execution_count": 17,
   "metadata": {},
   "outputs": [
    {
     "data": {
      "text/plain": [
       "<Reparameteriation Type: FULLY_REPARAMETERIZED>"
      ]
     },
     "execution_count": 17,
     "metadata": {},
     "output_type": "execute_result"
    }
   ],
   "source": [
    "tfd = tfp.distributions\n",
    "normal = tfd.Normal(loc=0, scale=1)\n",
    "normal.reparameterization_type"
   ]
  },
  {
   "cell_type": "code",
   "execution_count": 18,
   "metadata": {},
   "outputs": [
    {
     "data": {
      "text/plain": [
       "<tf.Tensor 'Normal/sample/Reshape:0' shape=(10,) dtype=float32>"
      ]
     },
     "execution_count": 18,
     "metadata": {},
     "output_type": "execute_result"
    }
   ],
   "source": [
    "normal.sample(10)"
   ]
  },
  {
   "cell_type": "code",
   "execution_count": null,
   "metadata": {},
   "outputs": [],
   "source": []
  }
 ],
 "metadata": {
  "kernelspec": {
   "display_name": "Python 3",
   "language": "python",
   "name": "python3"
  },
  "language_info": {
   "codemirror_mode": {
    "name": "ipython",
    "version": 3
   },
   "file_extension": ".py",
   "mimetype": "text/x-python",
   "name": "python",
   "nbconvert_exporter": "python",
   "pygments_lexer": "ipython3",
   "version": "3.6.7"
  }
 },
 "nbformat": 4,
 "nbformat_minor": 2
}
