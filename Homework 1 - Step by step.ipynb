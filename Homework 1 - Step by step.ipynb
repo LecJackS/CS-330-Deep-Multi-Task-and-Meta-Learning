{
 "cells": [
  {
   "cell_type": "markdown",
   "metadata": {},
   "source": [
    "# CS 330 Autumn 2019/2020 Homework 1\n",
    "# Data Processing and Memory Augmented Neural Networks\n",
    "\n",
    "---"
   ]
  },
  {
   "cell_type": "markdown",
   "metadata": {},
   "source": [
    "# Overview\n",
    "\n",
    "In this assignment we will be looking at meta-learing for few shot classification.\n",
    "\n",
    "You will\n",
    "\n",
    "1. Learn how to process and partition data for meta learning problems, where training is done over a **distribution of training tasks** $p(\\mathcal T)$.\n",
    "\n",
    "2. Implement and train **memory augmented neural networks**, which meta-learn through a recurrent network.\n",
    "\n",
    "3. Analyze the learning performance for **different size problems**.\n",
    "\n",
    "4. Experiment with **model parameters** and explore how they improve performance."
   ]
  },
  {
   "cell_type": "markdown",
   "metadata": {},
   "source": [
    "We will be working with the **Omniglot dataset** [[1]](#References)\n",
    ", a dataset for one-shot learning which contains:\n",
    "\n",
    "* 1623 different characters\n",
    "\n",
    "* from 50 different languages.\n",
    "\n",
    "* For each character there are 20 28x28 images.\n",
    "\n",
    "We are interested in training models for K-shot, N-way classification, that is, we want to train a classifier to distinguish between **N previously unseen characters**, given only **K labeled examples of each character**."
   ]
  },
  {
   "cell_type": "markdown",
   "metadata": {},
   "source": [
    "### Submission:\n",
    "\n",
    "To submit your homework, submit one pdf report and one zip file to Grade-Scope, where the report will contain answers to the deliverables listed below and the zip filecontains your code (*hw1.py*, *load_data.py*) with the filled in solutions.\n",
    "\n",
    "### Code Overview: The code consists of two files\n",
    "\n",
    "* load_data.py: Contains code to load batches of images and labels\n",
    "\n",
    "* hw1.py: Contains the network architecture/loss functions and training script.\n",
    "\n",
    "There is also the omniglot resized folder which contains the data. *You should not modify this folder.*\n",
    "\n",
    "### Dependencies:\n",
    "\n",
    "We expect code in Python 3.5+ with Pillow, scipy, numpy, tensorflow installed."
   ]
  },
  {
   "cell_type": "markdown",
   "metadata": {},
   "source": [
    "# Problem 1: Data Processing for Few-Shot Classification\n",
    "\n",
    "Before training any models, you must write code to sample batches for training. Fill in the sample batch function in the **DataGenerator class** in the *load_data.py* file.\n",
    "\n",
    "The class already has variables defined for\n",
    "\n",
    "* batch size batch_size ( $B$ ),\n",
    "\n",
    "* number of classes num_classes ( $N$ ),\n",
    "\n",
    "* and number of samples per class num_samples_per_class ( $K$ ).\n",
    "\n",
    "Your code should:\n",
    "\n",
    "1. Sample $N$ **different classes** from either the specified *train, test, or validation* folders.\n",
    "\n",
    "\n",
    "2. Load $K$ **images per class** and collect the associated labels.\n",
    "\n",
    "\n",
    "3. Format the data and return two numpy matrices:\n",
    "   \n",
    "   * one of **flattened images** with shape $[ B, K, N, 784 ]$,\n",
    "   \n",
    "   * and one of **one-hot labels** $[ B, K, N, N ]$\n",
    "   \n",
    "\n",
    "---"
   ]
  },
  {
   "cell_type": "markdown",
   "metadata": {},
   "source": [
    "**Note:** This notebook is self contained, so all auxiliary functions are defined here."
   ]
  },
  {
   "cell_type": "code",
   "execution_count": 1,
   "metadata": {},
   "outputs": [],
   "source": [
    "import os\n",
    "import imageio\n",
    "import numpy as np"
   ]
  },
  {
   "cell_type": "code",
   "execution_count": 2,
   "metadata": {},
   "outputs": [],
   "source": [
    "def get_images(paths, labels, nb_samples=None, shuffle=True):\n",
    "    \"\"\"\n",
    "    Takes a set of character folders and labels and returns paths to image files\n",
    "    paired with labels.\n",
    "    Args:\n",
    "        paths:  A list of character folders\n",
    "        labels: List or numpy array of same length as paths\n",
    "        nb_samples: Number of images to retrieve per character\n",
    "    Returns:\n",
    "        List of (label, image_path) tuples\n",
    "    \"\"\"\n",
    "    if nb_samples is not None:\n",
    "        sampler = lambda x: np.random.choice(x, nb_samples)\n",
    "    else:\n",
    "        sampler = lambda x: x\n",
    "    images_labels = [(i, os.path.join(path, image))\n",
    "                     for i, path in zip(labels, paths)\n",
    "                     for image in sampler(os.listdir(path))]\n",
    "    if shuffle:\n",
    "        np.random.shuffle(images_labels)\n",
    "    return images_labels\n",
    "\n",
    "\n",
    "def image_file_to_array(filename, dim_input):\n",
    "    \"\"\"\n",
    "    Takes an image path and returns numpy array\n",
    "    Args:\n",
    "        filename: Image filename\n",
    "        dim_input: Flattened shape of image\n",
    "    Returns:\n",
    "        1 channel image\n",
    "    \"\"\"\n",
    "    image = imageio.imread(filename)\n",
    "    image = image.reshape([dim_input])\n",
    "    image = image.astype(np.float32) / 255.0\n",
    "    image = 1.0 - image\n",
    "    return image"
   ]
  },
  {
   "cell_type": "code",
   "execution_count": 3,
   "metadata": {},
   "outputs": [],
   "source": [
    "class DataGenerator(object):\n",
    "    \"\"\"\n",
    "    Data Generator capable of generating batches of Omniglot data.\n",
    "    A \"class\" is considered a class of omniglot digits.\n",
    "    \"\"\"\n",
    "\n",
    "    def __init__(self, num_classes, num_samples_per_class, config={}):\n",
    "        \"\"\"\n",
    "        Args:\n",
    "            num_classes: Number of classes for classification (K-way)\n",
    "            num_samples_per_class: num samples to generate per class in one batch\n",
    "            batch_size: size of meta batch size (e.g. number of functions)\n",
    "        \"\"\"\n",
    "        self.num_classes = num_classes\n",
    "        self.num_samples_per_class = num_samples_per_class\n",
    "        \n",
    "\n",
    "        config = {'sad':''}\n",
    "\n",
    "        data_folder = config.get('data_folder', './omniglot_resized')\n",
    "        self.img_size = config.get('img_size', (28, 28))\n",
    "\n",
    "        self.dim_input = np.prod(self.img_size)\n",
    "        self.dim_output = self.num_classes\n",
    "\n",
    "        character_folders = [os.path.join(data_folder, family, character)\n",
    "                             for family in os.listdir(data_folder)\n",
    "                             if os.path.isdir(os.path.join(data_folder, family))\n",
    "                             for character in os.listdir(os.path.join(data_folder, family))\n",
    "                             if os.path.isdir(os.path.join(data_folder, family, character))]\n",
    "\n",
    "        np.random.seed(42)\n",
    "        np.random.shuffle(character_folders)\n",
    "        num_val = 100\n",
    "        num_train = 1100\n",
    "        self.metatrain_character_folders = character_folders[: num_train]\n",
    "        self.metaval_character_folders = character_folders[\n",
    "            num_train:num_train + num_val]\n",
    "        self.metatest_character_folders = character_folders[\n",
    "            num_train + num_val:]\n",
    "        print(\"Data generator initialized. Shape: [B, {}, {}, 784]\".format(self.num_samples_per_class, self.num_classes))\n",
    "\n",
    "    def sample_batch(self, batch_type, batch_size=1):\n",
    "        \"\"\"\n",
    "        Samples a batch for training, validation, or testing\n",
    "        Args:\n",
    "            batch_type: train/val/test\n",
    "        Returns:\n",
    "            A a tuple of (1) Image batch and (2) Label batch where\n",
    "            image batch has shape [B, K, N, 784] and label batch has shape [B, K, N, N]\n",
    "            where B is batch size, K is number of samples per class, N is number of classes\n",
    "        \"\"\"\n",
    "        n_classes  = self.num_classes\n",
    "        k_samples  = self.num_samples_per_class\n",
    "        \n",
    "        if batch_type == \"train\":\n",
    "            folders = self.metatrain_character_folders\n",
    "        elif batch_type == \"val\":\n",
    "            folders = self.metaval_character_folders\n",
    "        else:\n",
    "            folders = self.metatest_character_folders\n",
    "\n",
    "        #############################\n",
    "        #### YOUR CODE GOES HERE ####\n",
    "        pixels = 28*28\n",
    "        all_image_batches = np.ndarray((batch_size, k_samples, n_classes, pixels))\n",
    "        all_label_batches = np.ndarray((batch_size, k_samples, n_classes, n_classes))\n",
    "\n",
    "        for b in range(batch_size):\n",
    "            # Take N samples from all alphabet folders\n",
    "            sample_paths  = np.random.choice(folders, n_classes)\n",
    "            sample_labels = [os.path.basename(os.path.split(family)[0]) for family in sample_paths]\n",
    "            images_labels = get_images(sample_paths, sample_labels, k_samples)\n",
    "            \n",
    "            count = 0\n",
    "            for k in range(k_samples):\n",
    "                for n in range(n_classes):\n",
    "                    all_image_batches[b, k, n, :] = image_file_to_array(filename=images_labels[count][1], dim_input=pixels)\n",
    "                    # Labels as one-hot vectors\n",
    "                    all_label_batches[b, k, n, :] = np.zeros(n_classes)\n",
    "                    all_label_batches[b, k, n, n] = 1\n",
    "                    count += 1\n",
    "            #############################\n",
    "        return all_image_batches, all_label_batches"
   ]
  },
  {
   "cell_type": "code",
   "execution_count": 4,
   "metadata": {},
   "outputs": [
    {
     "name": "stdout",
     "output_type": "stream",
     "text": [
      "Data generator initialized. Shape: [B, 3, 5, 784]\n"
     ]
    }
   ],
   "source": [
    "c = {'data_folder':'./'}\n",
    "\n",
    "num_classes=5\n",
    "num_samples_per_class=3\n",
    "\n",
    "data = DataGenerator(num_classes, num_samples_per_class)"
   ]
  },
  {
   "cell_type": "code",
   "execution_count": 5,
   "metadata": {},
   "outputs": [
    {
     "name": "stdout",
     "output_type": "stream",
     "text": [
      "Batch of images of shape: (10, 3, 5, 784)\n",
      "Batch of labels of shape: (10, 3, 5, 5)\n"
     ]
    }
   ],
   "source": [
    "images, labels = data.sample_batch('train', batch_size=10)\n",
    "print(\"Batch of images of shape:\", images.shape)\n",
    "print(\"Batch of labels of shape:\", labels.shape)"
   ]
  },
  {
   "cell_type": "markdown",
   "metadata": {},
   "source": [
    "Labels are relative to the classes in **each sample**.\n",
    "\n",
    "We don't care about the actual language of each character, we only want to compare if they are the same class, or not."
   ]
  },
  {
   "cell_type": "code",
   "execution_count": 6,
   "metadata": {},
   "outputs": [
    {
     "name": "stdout",
     "output_type": "stream",
     "text": [
      "[1. 0. 0. 0. 0.]\n",
      "[0. 1. 0. 0. 0.]\n",
      "[0. 0. 1. 0. 0.]\n",
      "[0. 0. 0. 1. 0.]\n",
      "[0. 0. 0. 0. 1.]\n"
     ]
    }
   ],
   "source": [
    "for i in range(num_classes):\n",
    "    print(labels[0,0,i])"
   ]
  },
  {
   "cell_type": "markdown",
   "metadata": {},
   "source": [
    "Let's explore the images:"
   ]
  },
  {
   "cell_type": "code",
   "execution_count": 7,
   "metadata": {},
   "outputs": [],
   "source": [
    "import matplotlib.pyplot as plt"
   ]
  },
  {
   "cell_type": "code",
   "execution_count": 8,
   "metadata": {},
   "outputs": [
    {
     "name": "stdout",
     "output_type": "stream",
     "text": [
      "First meta-batch:\n"
     ]
    },
    {
     "data": {
      "image/png": "[encoded data removed]",
      "text/plain": [
       "<Figure size 1152x432 with 15 Axes>"
      ]
     },
     "metadata": {
      "needs_background": "light"
     },
     "output_type": "display_data"
    }
   ],
   "source": [
    "print(\"First meta-batch:\")\n",
    "\n",
    "plt.figure(figsize=(16, 6))\n",
    "count = 0\n",
    "for cl in range(num_classes):\n",
    "    for sa in range(num_samples_per_class):\n",
    "        plt.subplot(num_samples_per_class, num_classes, count + 1)\n",
    "        plt.title(\"Class {} - Example {}\".format(cl, sa))\n",
    "        image = images[0, sa, cl].reshape((28,28))\n",
    "        plt.imshow(image)\n",
    "        plt.axis('off');\n",
    "        count += 1"
   ]
  },
  {
   "cell_type": "code",
   "execution_count": 9,
   "metadata": {},
   "outputs": [
    {
     "name": "stdout",
     "output_type": "stream",
     "text": [
      "Second meta-batch:\n"
     ]
    },
    {
     "data": {
      "image/png": "[encoded data removed]",
      "text/plain": [
       "<Figure size 1152x432 with 15 Axes>"
      ]
     },
     "metadata": {
      "needs_background": "light"
     },
     "output_type": "display_data"
    }
   ],
   "source": [
    "print(\"Second meta-batch:\")\n",
    "\n",
    "plt.figure(figsize=(16, 6))\n",
    "count = 0\n",
    "for cl in range(num_classes):\n",
    "    for sa in range(num_samples_per_class):\n",
    "        plt.subplot(num_samples_per_class, num_classes, count + 1)\n",
    "        plt.title(\"Class {} - Example {}\".format(cl, sa))\n",
    "        image = images[1, sa, cl].reshape((28,28))\n",
    "        plt.imshow(image)\n",
    "        plt.axis('off');\n",
    "        count += 1"
   ]
  },
  {
   "cell_type": "markdown",
   "metadata": {},
   "source": [
    "About the data generator:"
   ]
  },
  {
   "cell_type": "code",
   "execution_count": 10,
   "metadata": {},
   "outputs": [
    {
     "name": "stdout",
     "output_type": "stream",
     "text": [
      "# of samples per class: 3\n",
      "# of classes: 5\n",
      "Image size: (28, 28)\n",
      "Input dimension: 784\n",
      "Output dimension: 5\n"
     ]
    }
   ],
   "source": [
    "print(\"# of samples per class:\", data.num_samples_per_class)\n",
    "print(\"# of classes:\",  data.num_classes)\n",
    "print(\"Image size:\",   data.img_size)\n",
    "print(\"Input dimension:\",  data.dim_input)\n",
    "print(\"Output dimension:\", data.dim_output)"
   ]
  },
  {
   "cell_type": "markdown",
   "metadata": {},
   "source": [
    "Distribution of our data folders:"
   ]
  },
  {
   "cell_type": "code",
   "execution_count": 11,
   "metadata": {},
   "outputs": [
    {
     "name": "stdout",
     "output_type": "stream",
     "text": [
      "# of meta train folders: 1100\n",
      "# of meta val folders:   100\n",
      "# of meta test folders:  423\n"
     ]
    }
   ],
   "source": [
    "print(\"# of meta train folders:\", len(data.metatrain_character_folders))\n",
    "print(\"# of meta val folders:  \", len(data.metaval_character_folders))\n",
    "print(\"# of meta test folders: \", len(data.metatest_character_folders))"
   ]
  },
  {
   "cell_type": "markdown",
   "metadata": {},
   "source": [
    "We can also access those folders directly:"
   ]
  },
  {
   "cell_type": "code",
   "execution_count": 12,
   "metadata": {},
   "outputs": [
    {
     "data": {
      "text/plain": [
       "['./omniglot_resized/Japanese_(hiragana)/character06',\n",
       " './omniglot_resized/Tifinagh/character18',\n",
       " './omniglot_resized/Oriya/character14',\n",
       " './omniglot_resized/Sanskrit/character34',\n",
       " './omniglot_resized/Gurmukhi/character20']"
      ]
     },
     "execution_count": 12,
     "metadata": {},
     "output_type": "execute_result"
    }
   ],
   "source": [
    "data.metatrain_character_folders[0:5]"
   ]
  },
  {
   "cell_type": "code",
   "execution_count": 13,
   "metadata": {
    "scrolled": true
   },
   "outputs": [
    {
     "data": {
      "text/plain": [
       "['./omniglot_resized/Burmese_(Myanmar)/character25',\n",
       " './omniglot_resized/Gurmukhi/character29',\n",
       " './omniglot_resized/Anglo-Saxon_Futhorc/character02',\n",
       " './omniglot_resized/Malay_(Jawi_-_Arabic)/character11',\n",
       " './omniglot_resized/Kannada/character08']"
      ]
     },
     "execution_count": 13,
     "metadata": {},
     "output_type": "execute_result"
    }
   ],
   "source": [
    "data.metatest_character_folders[0:5]"
   ]
  },
  {
   "cell_type": "markdown",
   "metadata": {},
   "source": [
    "### Helper functions."
   ]
  },
  {
   "cell_type": "code",
   "execution_count": 14,
   "metadata": {},
   "outputs": [
    {
     "data": {
      "text/plain": [
       "[('1', './omniglot_resized/Burmese_(Myanmar)/character25/0794_20.png'),\n",
       " ('Glagolitic',\n",
       "  './omniglot_resized/Anglo-Saxon_Futhorc/character02/0297_09.png'),\n",
       " ('N_Ko', './omniglot_resized/Gurmukhi/character29/1188_05.png')]"
      ]
     },
     "execution_count": 14,
     "metadata": {},
     "output_type": "execute_result"
    }
   ],
   "source": [
    "get_images(data.metatest_character_folders[0:3],['1','N_Ko','Glagolitic'],1)"
   ]
  },
  {
   "cell_type": "markdown",
   "metadata": {},
   "source": [
    "Display \"real\" labels:"
   ]
  },
  {
   "cell_type": "code",
   "execution_count": 15,
   "metadata": {},
   "outputs": [
    {
     "data": {
      "text/plain": [
       "['Burmese_(Myanmar)', 'Gurmukhi', 'Anglo-Saxon_Futhorc']"
      ]
     },
     "execution_count": 15,
     "metadata": {},
     "output_type": "execute_result"
    }
   ],
   "source": [
    "[os.path.basename(os.path.split(family)[0]) for family in data.metatest_character_folders[0:3]]"
   ]
  },
  {
   "cell_type": "markdown",
   "metadata": {},
   "source": [
    "Or plot a character directly from file"
   ]
  },
  {
   "cell_type": "code",
   "execution_count": 16,
   "metadata": {},
   "outputs": [
    {
     "data": {
      "text/plain": [
       "<matplotlib.image.AxesImage at 0x7efd8d644ba8>"
      ]
     },
     "execution_count": 16,
     "metadata": {},
     "output_type": "execute_result"
    },
    {
     "data": {
      "image/png": "[encoded data removed]",
      "text/plain": [
       "<Figure size 432x288 with 1 Axes>"
      ]
     },
     "metadata": {
      "needs_background": "light"
     },
     "output_type": "display_data"
    }
   ],
   "source": [
    "plt.imshow(image_file_to_array('./omniglot_resized/N_Ko/character12/0815_17.png', 784).reshape((28,28)))"
   ]
  },
  {
   "cell_type": "markdown",
   "metadata": {},
   "source": [
    "# Problem 2: Memory Augmented Neural Networks [[2]](#References) [[3]](#References)"
   ]
  },
  {
   "cell_type": "markdown",
   "metadata": {},
   "source": [
    "We will be attempting few shot classification using memory augmented neural networks.\n",
    "\n",
    "The idea of memory augmented networks is to use a classifier with recurrent memory, such that information from the K examples of unseen classes informs classification through the hidden state of the network.\n",
    "\n",
    "The data processing will be done as in SNAIL [[3]](#References).\n",
    "\n",
    "Specifically, during training, you sample batches of $N$ **classes**, with $K + 1$ **samples per batch**.\n",
    "\n",
    "Each set of labels and images are **concatenated together**, and then **all K** of these concatenated pairs are sequentially passed through the network.\n",
    "\n",
    "Then the final example of each class is fed through the network (**concatenated with 0** instead of the true label). "
   ]
  },
  {
   "cell_type": "markdown",
   "metadata": {},
   "source": [
    "![figure-1.png](./img/figure-1.png)"
   ]
  },
  {
   "cell_type": "markdown",
   "metadata": {},
   "source": [
    "The loss is computed between these final outputs and the ground truth label, which is then backpropagated through the network.\n",
    "\n",
    "**Note:** The loss is **only** computed on the **last** set of $N$ classes.\n",
    "\n",
    "The idea is that the network will learn how to encode the first $K$ examples of each class into memory such that it can be used to enable accurate classification on the $K + 1th$ example. See Figure 1.\n",
    "\n",
    "In the *hw1.py* file: \n",
    "\n",
    "1. Fill in the *call* function of the *MANN* class to take in image tensor of shape $[B, K + 1, N, 784]$ and a label tensor of shape $[B, K + 1, N, N ]$ and output labels of shape $[B, K + 1, N, N ]$.\n",
    "\n",
    "   The layers to use have already been defined for you in the init function.\n",
    "\n",
    "   **Hint:** Remember to pass zeros, not the ground truth labels for the final $N$ examples.\n",
    "\n",
    "2. Fill in the function called *loss_function* which takes as input the $[B, K + 1, N, N ]$ labels and $[B, K + 1, N, N ]$ and computes the **cross entropy loss**.\n",
    "\n",
    "**Note:** Both of the above functions will need to backpropogated through, so **they need to bewritten in differentiable tensorflow**.\n",
    "\n",
    "---"
   ]
  },
  {
   "cell_type": "code",
   "execution_count": 17,
   "metadata": {},
   "outputs": [],
   "source": [
    "import tensorflow as tf\n",
    "import datetime"
   ]
  },
  {
   "cell_type": "code",
   "execution_count": 18,
   "metadata": {},
   "outputs": [
    {
     "data": {
      "text/plain": [
       "'1.15.0'"
      ]
     },
     "execution_count": 18,
     "metadata": {},
     "output_type": "execute_result"
    }
   ],
   "source": [
    "# Check if tf version is 1.15\n",
    "tf.__version__"
   ]
  },
  {
   "cell_type": "code",
   "execution_count": 25,
   "metadata": {},
   "outputs": [],
   "source": [
    "def loss_function(preds, labels):\n",
    "    \"\"\"l\n",
    "    Computes MANN loss\n",
    "    Args:\n",
    "        preds: [B, K+1, N, N] network output\n",
    "        labels: [B, K+1, N, N] labels\n",
    "    Returns:\n",
    "        scalar loss\n",
    "    \"\"\"\n",
    "    #############################\n",
    "    #### YOUR CODE GOES HERE ####\n",
    "    loss = tf.keras.losses.categorical_crossentropy(y_true=labels[:,-1:,:,:],\n",
    "                                                    y_pred=preds[:, -1:,:,:],\n",
    "                                                    from_logits=True)\n",
    "    loss = tf.reduce_sum(loss)\n",
    "    #############################\n",
    "    return loss\n",
    "\n",
    "class MANN(tf.keras.Model):\n",
    "\n",
    "    def __init__(self, num_classes, samples_per_class):\n",
    "        super(MANN, self).__init__()\n",
    "        self.num_classes = num_classes\n",
    "        self.samples_per_class = samples_per_class\n",
    "        self.layer1 = tf.keras.layers.LSTM(128, return_sequences=True)\n",
    "        self.layer2 = tf.keras.layers.LSTM(num_classes, return_sequences=True)\n",
    "\n",
    "    def call(self, input_images, input_labels):\n",
    "        \"\"\"\n",
    "        MANN\n",
    "        Args:\n",
    "            input_images: [B, K+1, N, 784] flattened images\n",
    "            labels:       [B, K+1, N, N] ground truth labels\n",
    "        Returns:\n",
    "            [B, K+1, N, N] predictions\n",
    "        \"\"\"\n",
    "        #############################\n",
    "        #### YOUR CODE GOES HERE ####\n",
    "        # Data processing as in SNAIL\n",
    "        _, K, N, I = input_images.shape\n",
    "        # First K data+labels (for each N classes)\n",
    "        data1 = tf.concat([input_images[:,0:-1,:,:],\n",
    "                           input_labels[:,0:-1,:,:]], axis=3)\n",
    "        # Last N examples of data+zeros \n",
    "        data2 = tf.concat([input_images[:,-1:,:,:],\n",
    "                           tf.zeros_like(input_labels)[:,-1:,:,:]], axis=3)\n",
    "        data = tf.concat([data1, data2], axis=1)\n",
    "        data = tf.reshape(data, [-1, K*N, I+N])\n",
    "        # Pass data through network\n",
    "        x = self.layer1(data)\n",
    "        x = self.layer2(x)\n",
    "        # Return original shape [B,K+1,N,N]\n",
    "        out = tf.reshape(x, [-1, K, N, N])\n",
    "        #############################\n",
    "        return out"
   ]
  },
  {
   "cell_type": "code",
   "execution_count": 85,
   "metadata": {},
   "outputs": [],
   "source": [
    "def run_experiment(num_classes=2, num_samples=1, meta_batch_size=1, epochs=5e5, verbose=True):\n",
    "    #Placeholders for images and labels\n",
    "    ims = tf.placeholder(tf.float32,\n",
    "                shape=(None,\n",
    "                       num_samples + 1,\n",
    "                       num_classes,\n",
    "                       784))\n",
    "    labels = tf.placeholder(tf.float32,\n",
    "                shape=(None,\n",
    "                       num_samples + 1,\n",
    "                       num_classes,\n",
    "                       num_classes))\n",
    "\n",
    "    data_generator = DataGenerator(\n",
    "                        num_classes,\n",
    "                        num_samples + 1)\n",
    "\n",
    "    o = MANN(num_classes, num_samples + 1)\n",
    "    out = o(ims, labels)\n",
    "\n",
    "    loss = loss_function(out, labels)\n",
    "\n",
    "    optim = tf.train.AdamOptimizer(0.001)\n",
    "    #optim = tf.compat.v1.train.AdamOptimizer(0.001)\n",
    "    optimizer_step = optim.minimize(loss)\n",
    "    print(\"... Starts training ...\")\n",
    "    last_time = datetime.datetime.now()\n",
    "    print(\"Time:\", last_time.time())\n",
    "    history = []\n",
    "    with tf.Session() as sess:\n",
    "        sess.run(tf.local_variables_initializer())\n",
    "        sess.run(tf.global_variables_initializer())\n",
    "        \n",
    "        for step in range(int(epochs)):\n",
    "            i, l = data_generator.sample_batch(batch_type='train', batch_size=meta_batch_size)\n",
    "            #print(\"i.shape:\",i.shape)\n",
    "            feed = {ims:    i.astype(np.float32),\n",
    "                    labels: l.astype(np.float32)}\n",
    "            #print(\"feed[ims].shape:\", feed[ims].shape)\n",
    "            _, ls = sess.run([optimizer_step, loss], feed)\n",
    "\n",
    "            if step % 100 == 0 or step == int(epochs)-1:\n",
    "                if verbose:\n",
    "                    print(\"***** Iter {} *****\".format(step))\n",
    "                    print(\"Took {:.4f} seconds\".format(((datetime.datetime.now() - last_time).microseconds)*1e-5))\n",
    "                last_time = datetime.datetime.now()\n",
    "                i, l = data_generator.sample_batch(batch_type='test', batch_size=1000)\n",
    "                feed = {ims:    i.astype(np.float32),\n",
    "                        labels: l.astype(np.float32)}\n",
    "                pred, tls = sess.run([out, loss], feed)\n",
    "                if verbose:\n",
    "                    print(\"Train Loss:\", ls)\n",
    "                    print(\"Test  Loss:\", tls)\n",
    "                pred = pred.reshape(\n",
    "                        -1, num_samples + 1,\n",
    "                        num_classes, num_classes)\n",
    "                pred = pred[:, -1, :, :].argmax(2)\n",
    "                l = l[:, -1, :, :].argmax(2)\n",
    "                \n",
    "                accuracy = (1.0 * (pred == l)).mean()\n",
    "                history.append([ls, tls, accuracy])\n",
    "                if verbose:\n",
    "                    print(\"Test Accuracy\", accuracy)\n",
    "                    \n",
    "                \n",
    "    print(\"Time:\", last_time.time())\n",
    "    print(\"... Training ended ...\")\n",
    "    return np.asarray(history, dtype=np.float32)"
   ]
  },
  {
   "cell_type": "code",
   "execution_count": 86,
   "metadata": {},
   "outputs": [
    {
     "name": "stdout",
     "output_type": "stream",
     "text": [
      "Data generator initialized. Shape: [B, 2, 2, 784]\n",
      "... Starts training ...\n",
      "Time: 01:56:13.555201\n",
      "***** Iter 0 *****\n",
      "Took 8.8110 seconds\n",
      "Train Loss: 1.385164\n",
      "Test  Loss: 1371.1289\n",
      "Test Accuracy 0.512\n",
      "***** Iter 99 *****\n",
      "Took 8.3621 seconds\n",
      "Train Loss: 0.8610181\n",
      "Test  Loss: 799.63226\n",
      "Test Accuracy 0.8865\n",
      "Time: 01:56:21.272570\n",
      "... Training ended ...\n"
     ]
    }
   ],
   "source": [
    "# Number of classes used in classification (e.g. 5-way classification).\n",
    "num_classes = 5\n",
    "\n",
    "# Number of examples used for inner gradient update (K for K-shot learning)\n",
    "num_samples = 1\n",
    "\n",
    "# Number of N-way classification tasks per batch\n",
    "meta_batch_size = 1\n",
    "\n",
    "hist = run_experiment(epochs=1e2)"
   ]
  },
  {
   "cell_type": "markdown",
   "metadata": {},
   "source": [
    "# Problem 3: Analysis"
   ]
  },
  {
   "cell_type": "markdown",
   "metadata": {},
   "source": [
    "Once you have completed problems 1 and 2, you can train your few shot classification model.\n",
    "\n",
    "For example run\n",
    "\n",
    "> `python hw1.py --num_classes=2 --num_samples=1 --meta_batch_size=4`\n",
    "\n",
    "to run **1-shot, 2-way classification** with a **batch size of 4**.\n",
    "\n",
    "You should observe both the train and testing loss go down, and the test accuracy go up.\n",
    "\n",
    "Now we will examine how the performance varies for different size problems.\n",
    "\n",
    "Train models for the following values of $K$ and $N$.\n",
    "\n",
    "> $K = 1$, $N = 2$\n",
    ">\n",
    "> $K = 1$, $N = 3$\n",
    ">\n",
    "> $K = 1$, $N = 4$\n",
    ">\n",
    "> $K = 5$, $N = 4$\n",
    "\n",
    "For each configuration, submit a plot of the test accuracy over iterations.\n",
    "\n",
    "Note your observations.\n",
    "\n",
    "---"
   ]
  },
  {
   "cell_type": "code",
   "execution_count": 87,
   "metadata": {},
   "outputs": [
    {
     "name": "stdout",
     "output_type": "stream",
     "text": [
      "Data generator initialized. Shape: [B, 2, 2, 784]\n",
      "... Starts training ...\n",
      "Time: 01:56:35.042405\n",
      "Time: 02:02:22.558150\n",
      "... Training ended ...\n"
     ]
    }
   ],
   "source": [
    "hist = run_experiment(num_classes=2, num_samples=1, meta_batch_size=1, epochs=1e4, verbose=False)"
   ]
  },
  {
   "cell_type": "code",
   "execution_count": 88,
   "metadata": {},
   "outputs": [
    {
     "data": {
      "image/png": "[encoded data removed]",
      "text/plain": [
       "<Figure size 432x288 with 1 Axes>"
      ]
     },
     "metadata": {
      "needs_background": "light"
     },
     "output_type": "display_data"
    }
   ],
   "source": [
    "plt.plot(hist[:, 0])\n",
    "plt.show()"
   ]
  },
  {
   "cell_type": "code",
   "execution_count": 89,
   "metadata": {},
   "outputs": [
    {
     "data": {
      "image/png": "[encoded data removed]",
      "text/plain": [
       "<Figure size 432x288 with 1 Axes>"
      ]
     },
     "metadata": {
      "needs_background": "light"
     },
     "output_type": "display_data"
    }
   ],
   "source": [
    "plt.plot(hist[:, 1])\n",
    "plt.show()"
   ]
  },
  {
   "cell_type": "code",
   "execution_count": 90,
   "metadata": {},
   "outputs": [
    {
     "data": {
      "image/png": "[encoded data removed]",
      "text/plain": [
       "<Figure size 432x288 with 1 Axes>"
      ]
     },
     "metadata": {
      "needs_background": "light"
     },
     "output_type": "display_data"
    }
   ],
   "source": [
    "plt.plot(hist[:, 2])\n",
    "plt.show()"
   ]
  },
  {
   "cell_type": "code",
   "execution_count": 91,
   "metadata": {},
   "outputs": [
    {
     "name": "stdout",
     "output_type": "stream",
     "text": [
      "Data generator initialized. Shape: [B, 2, 3, 784]\n",
      "... Starts training ...\n",
      "Time: 02:02:26.357928\n",
      "Time: 02:11:17.731342\n",
      "... Training ended ...\n"
     ]
    }
   ],
   "source": [
    "hist = run_experiment(num_classes=3, num_samples=1, meta_batch_size=1, epochs=1e4, verbose=False)"
   ]
  },
  {
   "cell_type": "code",
   "execution_count": 92,
   "metadata": {},
   "outputs": [
    {
     "data": {
      "image/png": "[encoded data removed]",
      "text/plain": [
       "<Figure size 432x288 with 1 Axes>"
      ]
     },
     "metadata": {
      "needs_background": "light"
     },
     "output_type": "display_data"
    }
   ],
   "source": [
    "plt.plot(hist[:, 0])\n",
    "plt.show()"
   ]
  },
  {
   "cell_type": "code",
   "execution_count": 93,
   "metadata": {},
   "outputs": [
    {
     "data": {
      "image/png": "[encoded data removed]",
      "text/plain": [
       "<Figure size 432x288 with 1 Axes>"
      ]
     },
     "metadata": {
      "needs_background": "light"
     },
     "output_type": "display_data"
    }
   ],
   "source": [
    "plt.plot(hist[:, 1])\n",
    "plt.show()"
   ]
  },
  {
   "cell_type": "code",
   "execution_count": 94,
   "metadata": {},
   "outputs": [
    {
     "data": {
      "image/png": "[encoded data removed]",
      "text/plain": [
       "<Figure size 432x288 with 1 Axes>"
      ]
     },
     "metadata": {
      "needs_background": "light"
     },
     "output_type": "display_data"
    }
   ],
   "source": [
    "plt.plot(hist[:, 2])\n",
    "plt.show()"
   ]
  },
  {
   "cell_type": "code",
   "execution_count": 95,
   "metadata": {},
   "outputs": [
    {
     "name": "stdout",
     "output_type": "stream",
     "text": [
      "Data generator initialized. Shape: [B, 2, 4, 784]\n",
      "... Starts training ...\n",
      "Time: 02:11:22.442240\n",
      "Time: 02:21:43.160281\n",
      "... Training ended ...\n"
     ]
    }
   ],
   "source": [
    "hist = run_experiment(num_classes=4, num_samples=1, meta_batch_size=1, epochs=1e4, verbose=False)"
   ]
  },
  {
   "cell_type": "code",
   "execution_count": 96,
   "metadata": {},
   "outputs": [
    {
     "data": {
      "image/png": "[encoded data removed]",
      "text/plain": [
       "<Figure size 432x288 with 1 Axes>"
      ]
     },
     "metadata": {
      "needs_background": "light"
     },
     "output_type": "display_data"
    }
   ],
   "source": [
    "plt.plot(hist[:, 0])\n",
    "plt.show()"
   ]
  },
  {
   "cell_type": "code",
   "execution_count": 97,
   "metadata": {},
   "outputs": [
    {
     "data": {
      "image/png": "[encoded data removed]",
      "text/plain": [
       "<Figure size 432x288 with 1 Axes>"
      ]
     },
     "metadata": {
      "needs_background": "light"
     },
     "output_type": "display_data"
    }
   ],
   "source": [
    "plt.plot(hist[:, 1])\n",
    "plt.show()"
   ]
  },
  {
   "cell_type": "code",
   "execution_count": 98,
   "metadata": {},
   "outputs": [
    {
     "data": {
      "image/png": "[encoded data removed]",
      "text/plain": [
       "<Figure size 432x288 with 1 Axes>"
      ]
     },
     "metadata": {
      "needs_background": "light"
     },
     "output_type": "display_data"
    }
   ],
   "source": [
    "plt.plot(hist[:, 2])\n",
    "plt.show()"
   ]
  },
  {
   "cell_type": "code",
   "execution_count": 99,
   "metadata": {},
   "outputs": [
    {
     "name": "stdout",
     "output_type": "stream",
     "text": [
      "Data generator initialized. Shape: [B, 6, 4, 784]\n",
      "... Starts training ...\n",
      "Time: 02:21:48.276683\n",
      "Time: 02:48:56.094239\n",
      "... Training ended ...\n"
     ]
    }
   ],
   "source": [
    "hist = run_experiment(num_classes=4, num_samples=5, meta_batch_size=1, epochs=1e4, verbose=False)"
   ]
  },
  {
   "cell_type": "code",
   "execution_count": 100,
   "metadata": {},
   "outputs": [
    {
     "data": {
      "image/png": "[encoded data removed]",
      "text/plain": [
       "<Figure size 432x288 with 1 Axes>"
      ]
     },
     "metadata": {
      "needs_background": "light"
     },
     "output_type": "display_data"
    }
   ],
   "source": [
    "plt.plot(hist[:, 0])\n",
    "plt.show()"
   ]
  },
  {
   "cell_type": "code",
   "execution_count": 101,
   "metadata": {},
   "outputs": [
    {
     "data": {
      "image/png": "[encoded data removed]",
      "text/plain": [
       "<Figure size 432x288 with 1 Axes>"
      ]
     },
     "metadata": {
      "needs_background": "light"
     },
     "output_type": "display_data"
    }
   ],
   "source": [
    "plt.plot(hist[:, 1])\n",
    "plt.show()"
   ]
  },
  {
   "cell_type": "code",
   "execution_count": 102,
   "metadata": {},
   "outputs": [
    {
     "data": {
      "image/png": "[encoded data removed]",
      "text/plain": [
       "<Figure size 432x288 with 1 Axes>"
      ]
     },
     "metadata": {
      "needs_background": "light"
     },
     "output_type": "display_data"
    }
   ],
   "source": [
    "plt.plot(hist[:, 2])\n",
    "plt.show()"
   ]
  },
  {
   "cell_type": "code",
   "execution_count": 103,
   "metadata": {},
   "outputs": [
    {
     "name": "stdout",
     "output_type": "stream",
     "text": [
      "Data generator initialized. Shape: [B, 2, 10, 784]\n",
      "... Starts training ...\n",
      "Time: 02:49:07.036781\n",
      "Time: 03:13:50.270544\n",
      "... Training ended ...\n"
     ]
    }
   ],
   "source": [
    "hist = run_experiment(num_classes=10, num_samples=1, meta_batch_size=1, epochs=1e4, verbose=False)"
   ]
  },
  {
   "cell_type": "code",
   "execution_count": 104,
   "metadata": {},
   "outputs": [
    {
     "data": {
      "image/png": "[encoded data removed]",
      "text/plain": [
       "<Figure size 432x288 with 1 Axes>"
      ]
     },
     "metadata": {
      "needs_background": "light"
     },
     "output_type": "display_data"
    }
   ],
   "source": [
    "plt.plot(hist[:, 0])\n",
    "plt.show()"
   ]
  },
  {
   "cell_type": "code",
   "execution_count": 105,
   "metadata": {},
   "outputs": [
    {
     "data": {
      "image/png": "[encoded data removed]",
      "text/plain": [
       "<Figure size 432x288 with 1 Axes>"
      ]
     },
     "metadata": {
      "needs_background": "light"
     },
     "output_type": "display_data"
    }
   ],
   "source": [
    "plt.plot(hist[:, 1])\n",
    "plt.show()"
   ]
  },
  {
   "cell_type": "code",
   "execution_count": 106,
   "metadata": {},
   "outputs": [
    {
     "data": {
      "image/png": "[encoded data removed]",
      "text/plain": [
       "<Figure size 432x288 with 1 Axes>"
      ]
     },
     "metadata": {
      "needs_background": "light"
     },
     "output_type": "display_data"
    }
   ],
   "source": [
    "plt.plot(hist[:, 2])\n",
    "plt.show()"
   ]
  },
  {
   "cell_type": "code",
   "execution_count": 108,
   "metadata": {},
   "outputs": [],
   "source": [
    "# TODO: Check that the predictions are actually correct.\n",
    "#       Accuracy is suspiciously high for small amount of training epochs."
   ]
  },
  {
   "cell_type": "markdown",
   "metadata": {},
   "source": [
    "# Problem 4: Experimentation\n",
    "\n",
    "1. Experiment with one parameter of the model that affects the performance of the model, such as the type of recurrent layer, size of hidden state, learning rate, number of layers.\n",
    "   \n",
    "   Show learning curves of how the test success rate of the model changes on 1-shot, 3-way classification as you change the parameter.\n",
    "\n",
    "   Provide a brief rationale for why you chose the parameter and what you observed in the caption for the graph.\n",
    "\n",
    "\n",
    "2. Extra Credit: You can now change the MANN architecture however you want (including adding convolutions).\n",
    "   \n",
    "   Can you achieve over 60% test accuracy on 1-shot, 5-way classification?"
   ]
  },
  {
   "cell_type": "markdown",
   "metadata": {},
   "source": [
    "# References\n",
    "\n",
    "> [1] Brenden M. Lake, Ruslan Salakhutdinov, and Joshua B. Tenenbaum. Human-level con-\n",
    "cept learning through probabilistic program induction. Science, 350(6266):1332–1338,\n",
    "2015.\n",
    "\n",
    "> [2] Adam Santoro, Sergey Bartunov, Matthew Botvinick, Daan Wierstra, and Timothy Lill-\n",
    "icrap. Meta-learning with memory-augmented neural networks. In Maria Florina Balcan\n",
    "and Kilian Q. Weinberger, editors, Proceedings of The 33rd International Conference\n",
    "on Machine Learning, volume 48 of Proceedings of Machine Learning Research, pages\n",
    "1842–1850, New York, New York, USA, 20–22 Jun 2016. PMLR.\n",
    "\n",
    "> [3] Nikhil Mishra, Mostafa Rohaninejad, Xi Chen, and Pieter Abbeel. Meta-learning with\n",
    "temporal convolutions. CoRR, abs/1707.03141, 2017."
   ]
  },
  {
   "cell_type": "code",
   "execution_count": null,
   "metadata": {},
   "outputs": [],
   "source": []
  }
 ],
 "metadata": {
  "kernelspec": {
   "display_name": "Python 3",
   "language": "python",
   "name": "python3"
  },
  "language_info": {
   "codemirror_mode": {
    "name": "ipython",
    "version": 3
   },
   "file_extension": ".py",
   "mimetype": "text/x-python",
   "name": "python",
   "nbconvert_exporter": "python",
   "pygments_lexer": "ipython3",
   "version": "3.6.10"
  }
 },
 "nbformat": 4,
 "nbformat_minor": 4
}
